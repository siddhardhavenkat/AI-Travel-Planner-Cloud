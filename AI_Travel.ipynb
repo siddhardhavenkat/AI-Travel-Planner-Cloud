{
  "nbformat": 4,
  "nbformat_minor": 0,
  "metadata": {
    "colab": {
      "provenance": [],
      "authorship_tag": "ABX9TyNoXISfquVYl2HnmeXjc28Q",
      "include_colab_link": true
    },
    "kernelspec": {
      "name": "python3",
      "display_name": "Python 3"
    },
    "language_info": {
      "name": "python"
    }
  },
  "cells": [
    {
      "cell_type": "markdown",
      "metadata": {
        "id": "view-in-github",
        "colab_type": "text"
      },
      "source": [
        "<a href=\"https://colab.research.google.com/github/siddhardhavenkat/AI-Travel-Planner-Cloud/blob/main/AI_Travel.ipynb\" target=\"_parent\"><img src=\"https://colab.research.google.com/assets/colab-badge.svg\" alt=\"Open In Colab\"/></a>"
      ]
    },
    {
      "cell_type": "code",
      "execution_count": null,
      "metadata": {
        "colab": {
          "base_uri": "https://localhost:8080/"
        },
        "id": "Uo1P2-AwPY22",
        "outputId": "1b0eb846-27c6-4d18-a05d-cba3dc1dbb68"
      },
      "outputs": [
        {
          "output_type": "stream",
          "name": "stdout",
          "text": [
            "Collecting googlemaps\n",
            "  Downloading googlemaps-4.10.0.tar.gz (33 kB)\n",
            "  Preparing metadata (setup.py) ... \u001b[?25l\u001b[?25hdone\n",
            "Requirement already satisfied: openai in /usr/local/lib/python3.12/dist-packages (1.108.0)\n",
            "Requirement already satisfied: requests<3.0,>=2.20.0 in /usr/local/lib/python3.12/dist-packages (from googlemaps) (2.32.4)\n",
            "Requirement already satisfied: anyio<5,>=3.5.0 in /usr/local/lib/python3.12/dist-packages (from openai) (4.10.0)\n",
            "Requirement already satisfied: distro<2,>=1.7.0 in /usr/local/lib/python3.12/dist-packages (from openai) (1.9.0)\n",
            "Requirement already satisfied: httpx<1,>=0.23.0 in /usr/local/lib/python3.12/dist-packages (from openai) (0.28.1)\n",
            "Requirement already satisfied: jiter<1,>=0.4.0 in /usr/local/lib/python3.12/dist-packages (from openai) (0.11.0)\n",
            "Requirement already satisfied: pydantic<3,>=1.9.0 in /usr/local/lib/python3.12/dist-packages (from openai) (2.11.9)\n",
            "Requirement already satisfied: sniffio in /usr/local/lib/python3.12/dist-packages (from openai) (1.3.1)\n",
            "Requirement already satisfied: tqdm>4 in /usr/local/lib/python3.12/dist-packages (from openai) (4.67.1)\n",
            "Requirement already satisfied: typing-extensions<5,>=4.11 in /usr/local/lib/python3.12/dist-packages (from openai) (4.15.0)\n",
            "Requirement already satisfied: idna>=2.8 in /usr/local/lib/python3.12/dist-packages (from anyio<5,>=3.5.0->openai) (3.10)\n",
            "Requirement already satisfied: certifi in /usr/local/lib/python3.12/dist-packages (from httpx<1,>=0.23.0->openai) (2025.8.3)\n",
            "Requirement already satisfied: httpcore==1.* in /usr/local/lib/python3.12/dist-packages (from httpx<1,>=0.23.0->openai) (1.0.9)\n",
            "Requirement already satisfied: h11>=0.16 in /usr/local/lib/python3.12/dist-packages (from httpcore==1.*->httpx<1,>=0.23.0->openai) (0.16.0)\n",
            "Requirement already satisfied: annotated-types>=0.6.0 in /usr/local/lib/python3.12/dist-packages (from pydantic<3,>=1.9.0->openai) (0.7.0)\n",
            "Requirement already satisfied: pydantic-core==2.33.2 in /usr/local/lib/python3.12/dist-packages (from pydantic<3,>=1.9.0->openai) (2.33.2)\n",
            "Requirement already satisfied: typing-inspection>=0.4.0 in /usr/local/lib/python3.12/dist-packages (from pydantic<3,>=1.9.0->openai) (0.4.1)\n",
            "Requirement already satisfied: charset_normalizer<4,>=2 in /usr/local/lib/python3.12/dist-packages (from requests<3.0,>=2.20.0->googlemaps) (3.4.3)\n",
            "Requirement already satisfied: urllib3<3,>=1.21.1 in /usr/local/lib/python3.12/dist-packages (from requests<3.0,>=2.20.0->googlemaps) (2.5.0)\n",
            "Building wheels for collected packages: googlemaps\n",
            "  Building wheel for googlemaps (setup.py) ... \u001b[?25l\u001b[?25hdone\n",
            "  Created wheel for googlemaps: filename=googlemaps-4.10.0-py3-none-any.whl size=40714 sha256=63c1455da583f7de3fb584362b0813fa163c6700dc9a8d996c54e7a789fef4ee\n",
            "  Stored in directory: /root/.cache/pip/wheels/4c/6a/a7/bbc6f5c200032025ee655deb5e163ce8594fa05e67d973aad6\n",
            "Successfully built googlemaps\n",
            "Installing collected packages: googlemaps\n",
            "Successfully installed googlemaps-4.10.0\n"
          ]
        }
      ],
      "source": [
        "!pip install googlemaps openai\n"
      ]
    },
    {
      "cell_type": "markdown",
      "metadata": {
        "id": "65ce7c8b"
      },
      "source": [
        "## Orchestrate the workflow\n",
        "\n",
        "### Subtask:\n",
        "Create a main function that ties together all the previous steps: getting user inputs, fetching data, generating the itinerary, and displaying the output."
      ]
    },
    {
      "cell_type": "markdown",
      "metadata": {
        "id": "55e83c4f"
      },
      "source": [
        "**Reasoning**:\n",
        "Define the `plan_travel` function to orchestrate the entire travel planning process, including getting user inputs, validating them, fetching real-time data, generating the itinerary, and displaying the result."
      ]
    },
    {
      "cell_type": "code",
      "metadata": {
        "id": "f2404eba"
      },
      "source": [
        "def plan_travel():\n",
        "    \"\"\"Orchestrates the travel planning process.\"\"\"\n",
        "    print(\"Welcome to the AI-powered Travel Planner!\")\n",
        "\n",
        "    # 1. Get user inputs\n",
        "    origin = input(\"Enter your origin: \")\n",
        "    destination = input(\"Enter your destination: \")\n",
        "    start_date_str = input(\"Enter your start date (YYYY-MM-DD): \")\n",
        "    end_date_str = input(\"Enter your end date (YYYY-MM-DD): \")\n",
        "    interests = input(\"Enter your interests (comma-separated, e.g., historical sites, nature): \")\n",
        "    budget = input(\"Enter your budget (e.g., low, medium, high, or a specific amount): \")\n",
        "\n",
        "    # Validate inputs\n",
        "    errors = validate_inputs(origin, destination, start_date_str, end_date_str, interests, budget)\n",
        "    if errors:\n",
        "        print(\"\\nInput validation errors:\")\n",
        "        for error in errors:\n",
        "            print(f\"- {error}\")\n",
        "        return\n",
        "\n",
        "    # 2. Gather real-time data (example: getting distance and duration)\n",
        "    # You can expand this to include nearby places, place details based on interests, etc.\n",
        "    print(\"\\nGathering real-time data...\")\n",
        "    distance, duration = get_distance_and_duration(origin, destination)\n",
        "    real_time_data = f\"Distance between origin and destination: {distance}\\nTravel time between origin and destination: {duration}\"\n",
        "\n",
        "    # Example of getting nearby places (you can integrate this into the prompt or processing)\n",
        "    # if destination != \"N/A\": # Basic check if destination was valid for distance calculation\n",
        "    #     print(\"Finding nearby places of interest...\")\n",
        "    #     # This is a simplified example, you'd likely need to refine the location and type based on user interests\n",
        "    #     nearby_attractions = get_nearby_places(destination, 5000, 'tourist_attraction') # 5000 meters radius\n",
        "    #     if nearby_attractions:\n",
        "    #         real_time_data += \"\\n\\nNearby Attractions at Destination:\"\n",
        "    #         for place in nearby_attractions[:5]: # Limit to first 5 for brevity\n",
        "    #             real_time_data += f\"\\n- {place.get('name')} (Rating: {place.get('rating', 'N/A')})\"\n",
        "    #     else:\n",
        "    #         real_time_data += \"\\n\\nNo nearby attractions found for the destination.\"\n",
        "\n",
        "\n",
        "    # 3. Generate itinerary\n",
        "    print(\"\\nGenerating itinerary...\")\n",
        "    raw_itinerary_text = generate_itinerary(origin, destination, start_date_str, end_date_str, interests, budget, real_time_data)\n",
        "    print(\"\\n--- Raw Itinerary Text from Gemini API ---\")\n",
        "    print(raw_itinerary_text)\n",
        "    print(\"-------------------------------------------\")\n",
        "\n",
        "\n",
        "    # 4. Process and format the output\n",
        "    print(\"\\nParsing itinerary...\")\n",
        "    itinerary_data = parse_itinerary(raw_itinerary_text)\n",
        "\n",
        "    # 5. Present the output\n",
        "    display_itinerary(itinerary_data)\n",
        "\n",
        "    print(\"\\nTravel planning complete!\")"
      ],
      "execution_count": 20,
      "outputs": []
    },
    {
      "cell_type": "code",
      "metadata": {
        "colab": {
          "base_uri": "https://localhost:8080/",
          "height": 139
        },
        "id": "39d84a06",
        "outputId": "010ef685-5315-4c99-89e5-6930584dc000"
      },
      "source": [
        "{\"cell_id\": \"a77e3728\", \"deleted\": false, \"modified\": true}"
      ],
      "execution_count": 4,
      "outputs": [
        {
          "output_type": "error",
          "ename": "NameError",
          "evalue": "name 'false' is not defined",
          "traceback": [
            "\u001b[0;31m---------------------------------------------------------------------------\u001b[0m",
            "\u001b[0;31mNameError\u001b[0m                                 Traceback (most recent call last)",
            "\u001b[0;32m/tmp/ipython-input-2162970717.py\u001b[0m in \u001b[0;36m<cell line: 0>\u001b[0;34m()\u001b[0m\n\u001b[0;32m----> 1\u001b[0;31m \u001b[0;34m{\u001b[0m\u001b[0;34m\"cell_id\"\u001b[0m\u001b[0;34m:\u001b[0m \u001b[0;34m\"a77e3728\"\u001b[0m\u001b[0;34m,\u001b[0m \u001b[0;34m\"deleted\"\u001b[0m\u001b[0;34m:\u001b[0m \u001b[0mfalse\u001b[0m\u001b[0;34m,\u001b[0m \u001b[0;34m\"modified\"\u001b[0m\u001b[0;34m:\u001b[0m \u001b[0mtrue\u001b[0m\u001b[0;34m}\u001b[0m\u001b[0;34m\u001b[0m\u001b[0;34m\u001b[0m\u001b[0m\n\u001b[0m",
            "\u001b[0;31mNameError\u001b[0m: name 'false' is not defined"
          ]
        }
      ]
    },
    {
      "cell_type": "markdown",
      "metadata": {
        "id": "7105953e"
      },
      "source": [
        "## Finish task\n",
        "Now that all the necessary components are in place, you can run the `plan_travel()` function to generate a personalized travel itinerary based on your inputs."
      ]
    },
    {
      "cell_type": "code",
      "metadata": {
        "colab": {
          "base_uri": "https://localhost:8080/",
          "height": 520
        },
        "id": "ef40b65f",
        "outputId": "bf6b7845-f434-4d2a-fc2f-874d5f50aa50"
      },
      "source": [
        "plan_travel()"
      ],
      "execution_count": 5,
      "outputs": [
        {
          "output_type": "stream",
          "name": "stdout",
          "text": [
            "Welcome to the AI-powered Travel Planner!\n",
            "Enter your origin: eluru\n",
            "Enter your destination: goa\n",
            "Enter your start date (YYYY-MM-DD): 2025-10-05\n",
            "Enter your end date (YYYY-MM-DD): 2025-10-15\n",
            "Enter your interests (comma-separated, e.g., historical sites, nature): food,nature, sites\n",
            "Enter your budget (e.g., low, medium, high, or a specific amount): medium\n",
            "\n",
            "Gathering real-time data...\n",
            "Error getting distance and duration for eluru to goa: name 'gmaps' is not defined\n",
            "\n",
            "Generating itinerary...\n"
          ]
        },
        {
          "output_type": "error",
          "ename": "NameError",
          "evalue": "name 'itinerary_prompt_template' is not defined",
          "traceback": [
            "\u001b[0;31m---------------------------------------------------------------------------\u001b[0m",
            "\u001b[0;31mNameError\u001b[0m                                 Traceback (most recent call last)",
            "\u001b[0;32m/tmp/ipython-input-597661405.py\u001b[0m in \u001b[0;36m<cell line: 0>\u001b[0;34m()\u001b[0m\n\u001b[0;32m----> 1\u001b[0;31m \u001b[0mplan_travel\u001b[0m\u001b[0;34m(\u001b[0m\u001b[0;34m)\u001b[0m\u001b[0;34m\u001b[0m\u001b[0;34m\u001b[0m\u001b[0m\n\u001b[0m",
            "\u001b[0;32m/tmp/ipython-input-2296841190.py\u001b[0m in \u001b[0;36mplan_travel\u001b[0;34m()\u001b[0m\n\u001b[1;32m     40\u001b[0m     \u001b[0;31m# 3. Generate itinerary\u001b[0m\u001b[0;34m\u001b[0m\u001b[0;34m\u001b[0m\u001b[0m\n\u001b[1;32m     41\u001b[0m     \u001b[0mprint\u001b[0m\u001b[0;34m(\u001b[0m\u001b[0;34m\"\\nGenerating itinerary...\"\u001b[0m\u001b[0;34m)\u001b[0m\u001b[0;34m\u001b[0m\u001b[0;34m\u001b[0m\u001b[0m\n\u001b[0;32m---> 42\u001b[0;31m     \u001b[0mraw_itinerary_text\u001b[0m \u001b[0;34m=\u001b[0m \u001b[0mgenerate_itinerary\u001b[0m\u001b[0;34m(\u001b[0m\u001b[0morigin\u001b[0m\u001b[0;34m,\u001b[0m \u001b[0mdestination\u001b[0m\u001b[0;34m,\u001b[0m \u001b[0mstart_date_str\u001b[0m\u001b[0;34m,\u001b[0m \u001b[0mend_date_str\u001b[0m\u001b[0;34m,\u001b[0m \u001b[0minterests\u001b[0m\u001b[0;34m,\u001b[0m \u001b[0mbudget\u001b[0m\u001b[0;34m,\u001b[0m \u001b[0mreal_time_data\u001b[0m\u001b[0;34m)\u001b[0m\u001b[0;34m\u001b[0m\u001b[0;34m\u001b[0m\u001b[0m\n\u001b[0m\u001b[1;32m     43\u001b[0m \u001b[0;34m\u001b[0m\u001b[0m\n\u001b[1;32m     44\u001b[0m     \u001b[0;31m# 4. Process and format the output\u001b[0m\u001b[0;34m\u001b[0m\u001b[0;34m\u001b[0m\u001b[0m\n",
            "\u001b[0;32m/tmp/ipython-input-2855857958.py\u001b[0m in \u001b[0;36mgenerate_itinerary\u001b[0;34m(origin, destination, start_date, end_date, interests, budget, real_time_data)\u001b[0m\n\u001b[1;32m     22\u001b[0m \u001b[0;32mdef\u001b[0m \u001b[0mgenerate_itinerary\u001b[0m\u001b[0;34m(\u001b[0m\u001b[0morigin\u001b[0m\u001b[0;34m,\u001b[0m \u001b[0mdestination\u001b[0m\u001b[0;34m,\u001b[0m \u001b[0mstart_date\u001b[0m\u001b[0;34m,\u001b[0m \u001b[0mend_date\u001b[0m\u001b[0;34m,\u001b[0m \u001b[0minterests\u001b[0m\u001b[0;34m,\u001b[0m \u001b[0mbudget\u001b[0m\u001b[0;34m,\u001b[0m \u001b[0mreal_time_data\u001b[0m\u001b[0;34m)\u001b[0m\u001b[0;34m:\u001b[0m\u001b[0;34m\u001b[0m\u001b[0;34m\u001b[0m\u001b[0m\n\u001b[1;32m     23\u001b[0m     \u001b[0;34m\"\"\"Generates a travel itinerary using the Gemini API.\"\"\"\u001b[0m\u001b[0;34m\u001b[0m\u001b[0;34m\u001b[0m\u001b[0m\n\u001b[0;32m---> 24\u001b[0;31m     prompt = itinerary_prompt_template.format(\n\u001b[0m\u001b[1;32m     25\u001b[0m         \u001b[0morigin\u001b[0m\u001b[0;34m=\u001b[0m\u001b[0morigin\u001b[0m\u001b[0;34m,\u001b[0m\u001b[0;34m\u001b[0m\u001b[0;34m\u001b[0m\u001b[0m\n\u001b[1;32m     26\u001b[0m         \u001b[0mdestination\u001b[0m\u001b[0;34m=\u001b[0m\u001b[0mdestination\u001b[0m\u001b[0;34m,\u001b[0m\u001b[0;34m\u001b[0m\u001b[0;34m\u001b[0m\u001b[0m\n",
            "\u001b[0;31mNameError\u001b[0m: name 'itinerary_prompt_template' is not defined"
          ]
        }
      ]
    },
    {
      "cell_type": "markdown",
      "metadata": {
        "id": "b007f6fc"
      },
      "source": [
        "## Define the ai prompt for itinerary generation\n",
        "\n",
        "### Subtask:\n",
        "Craft a detailed prompt for the Gemini model that incorporates user inputs and retrieved data to generate a personalized itinerary."
      ]
    },
    {
      "cell_type": "markdown",
      "metadata": {
        "id": "cf3343d8"
      },
      "source": [
        "**Reasoning**:\n",
        "Define the prompt template for the Gemini model, including placeholders for user inputs and instructions for generating the itinerary."
      ]
    },
    {
      "cell_type": "code",
      "metadata": {
        "colab": {
          "base_uri": "https://localhost:8080/"
        },
        "id": "22e81b5a",
        "outputId": "b515d4ac-cf6b-48ee-a1e7-e0c8b34f8d07"
      },
      "source": [
        "itinerary_prompt_template = \"\"\"\n",
        "You are an AI travel planner. Your task is to create a personalized, budget-friendly travel itinerary based on the user's inputs and provided data.\n",
        "\n",
        "User Inputs:\n",
        "Origin: {origin}\n",
        "Destination: {destination}\n",
        "Start Date: {start_date}\n",
        "End Date: {end_date}\n",
        "Interests: {interests}\n",
        "Budget: {budget}\n",
        "\n",
        "Real-time Data:\n",
        "{real_time_data}\n",
        "\n",
        "Instructions:\n",
        "1. Act as a knowledgeable and helpful travel planner for students.\n",
        "2. Generate a daily itinerary from the start date to the end date.\n",
        "3. For each day, suggest activities and attractions based on the user's interests and budget.\n",
        "4. Suggest cost-effective transportation options between locations, considering the provided real-time data (distances, travel times).\n",
        "5. Estimate the cost for each activity and transportation option where possible.\n",
        "6. Provide a total estimated budget for the entire trip.\n",
        "7. Present the itinerary in a clear, structured, and easy-to-read format, with a daily breakdown.\n",
        "8. Ensure the suggestions align with the user's specified budget (e.g., suggest free or low-cost activities for a low budget).\n",
        "\"\"\"\n",
        "\n",
        "print(itinerary_prompt_template)"
      ],
      "execution_count": 6,
      "outputs": [
        {
          "output_type": "stream",
          "name": "stdout",
          "text": [
            "\n",
            "You are an AI travel planner. Your task is to create a personalized, budget-friendly travel itinerary based on the user's inputs and provided data.\n",
            "\n",
            "User Inputs:\n",
            "Origin: {origin}\n",
            "Destination: {destination}\n",
            "Start Date: {start_date}\n",
            "End Date: {end_date}\n",
            "Interests: {interests}\n",
            "Budget: {budget}\n",
            "\n",
            "Real-time Data:\n",
            "{real_time_data}\n",
            "\n",
            "Instructions:\n",
            "1. Act as a knowledgeable and helpful travel planner for students.\n",
            "2. Generate a daily itinerary from the start date to the end date.\n",
            "3. For each day, suggest activities and attractions based on the user's interests and budget.\n",
            "4. Suggest cost-effective transportation options between locations, considering the provided real-time data (distances, travel times).\n",
            "5. Estimate the cost for each activity and transportation option where possible.\n",
            "6. Provide a total estimated budget for the entire trip.\n",
            "7. Present the itinerary in a clear, structured, and easy-to-read format, with a daily breakdown.\n",
            "8. Ensure the suggestions align with the user's specified budget (e.g., suggest free or low-cost activities for a low budget).\n",
            "\n"
          ]
        }
      ]
    },
    {
      "cell_type": "markdown",
      "metadata": {
        "id": "6d96a19a"
      },
      "source": [
        "## Run the Travel Planner\n",
        "\n",
        "Now that all the components are in place, you can run the `plan_travel()` function again."
      ]
    },
    {
      "cell_type": "code",
      "metadata": {
        "colab": {
          "base_uri": "https://localhost:8080/",
          "height": 520
        },
        "id": "0c094079",
        "outputId": "674f4fa0-d531-46f3-e24b-b2f44f1c149c"
      },
      "source": [
        "plan_travel()"
      ],
      "execution_count": 7,
      "outputs": [
        {
          "output_type": "stream",
          "name": "stdout",
          "text": [
            "Welcome to the AI-powered Travel Planner!\n",
            "Enter your origin: eluru\n",
            "Enter your destination: goa\n",
            "Enter your start date (YYYY-MM-DD): 2025-10-10\n",
            "Enter your end date (YYYY-MM-DD): 2025-10-15\n",
            "Enter your interests (comma-separated, e.g., historical sites, nature): nature, sites\n",
            "Enter your budget (e.g., low, medium, high, or a specific amount): medium\n",
            "\n",
            "Gathering real-time data...\n",
            "Error getting distance and duration for eluru to goa: name 'gmaps' is not defined\n",
            "\n",
            "Generating itinerary...\n"
          ]
        },
        {
          "output_type": "error",
          "ename": "NameError",
          "evalue": "name 'genai' is not defined",
          "traceback": [
            "\u001b[0;31m---------------------------------------------------------------------------\u001b[0m",
            "\u001b[0;31mNameError\u001b[0m                                 Traceback (most recent call last)",
            "\u001b[0;32m/tmp/ipython-input-597661405.py\u001b[0m in \u001b[0;36m<cell line: 0>\u001b[0;34m()\u001b[0m\n\u001b[0;32m----> 1\u001b[0;31m \u001b[0mplan_travel\u001b[0m\u001b[0;34m(\u001b[0m\u001b[0;34m)\u001b[0m\u001b[0;34m\u001b[0m\u001b[0;34m\u001b[0m\u001b[0m\n\u001b[0m",
            "\u001b[0;32m/tmp/ipython-input-2296841190.py\u001b[0m in \u001b[0;36mplan_travel\u001b[0;34m()\u001b[0m\n\u001b[1;32m     40\u001b[0m     \u001b[0;31m# 3. Generate itinerary\u001b[0m\u001b[0;34m\u001b[0m\u001b[0;34m\u001b[0m\u001b[0m\n\u001b[1;32m     41\u001b[0m     \u001b[0mprint\u001b[0m\u001b[0;34m(\u001b[0m\u001b[0;34m\"\\nGenerating itinerary...\"\u001b[0m\u001b[0;34m)\u001b[0m\u001b[0;34m\u001b[0m\u001b[0;34m\u001b[0m\u001b[0m\n\u001b[0;32m---> 42\u001b[0;31m     \u001b[0mraw_itinerary_text\u001b[0m \u001b[0;34m=\u001b[0m \u001b[0mgenerate_itinerary\u001b[0m\u001b[0;34m(\u001b[0m\u001b[0morigin\u001b[0m\u001b[0;34m,\u001b[0m \u001b[0mdestination\u001b[0m\u001b[0;34m,\u001b[0m \u001b[0mstart_date_str\u001b[0m\u001b[0;34m,\u001b[0m \u001b[0mend_date_str\u001b[0m\u001b[0;34m,\u001b[0m \u001b[0minterests\u001b[0m\u001b[0;34m,\u001b[0m \u001b[0mbudget\u001b[0m\u001b[0;34m,\u001b[0m \u001b[0mreal_time_data\u001b[0m\u001b[0;34m)\u001b[0m\u001b[0;34m\u001b[0m\u001b[0;34m\u001b[0m\u001b[0m\n\u001b[0m\u001b[1;32m     43\u001b[0m \u001b[0;34m\u001b[0m\u001b[0m\n\u001b[1;32m     44\u001b[0m     \u001b[0;31m# 4. Process and format the output\u001b[0m\u001b[0;34m\u001b[0m\u001b[0;34m\u001b[0m\u001b[0m\n",
            "\u001b[0;32m/tmp/ipython-input-2855857958.py\u001b[0m in \u001b[0;36mgenerate_itinerary\u001b[0;34m(origin, destination, start_date, end_date, interests, budget, real_time_data)\u001b[0m\n\u001b[1;32m     31\u001b[0m         \u001b[0mreal_time_data\u001b[0m\u001b[0;34m=\u001b[0m\u001b[0mreal_time_data\u001b[0m \u001b[0;32mif\u001b[0m \u001b[0mreal_time_data\u001b[0m \u001b[0;32melse\u001b[0m \u001b[0;34m\"No real-time data available.\"\u001b[0m \u001b[0;31m# Handle potentially empty real_time_data\u001b[0m\u001b[0;34m\u001b[0m\u001b[0;34m\u001b[0m\u001b[0m\n\u001b[1;32m     32\u001b[0m     )\n\u001b[0;32m---> 33\u001b[0;31m     \u001b[0mmodel\u001b[0m \u001b[0;34m=\u001b[0m \u001b[0mgenai\u001b[0m\u001b[0;34m.\u001b[0m\u001b[0mGenerativeModel\u001b[0m\u001b[0;34m(\u001b[0m\u001b[0;34m'gemini-pro'\u001b[0m\u001b[0;34m)\u001b[0m\u001b[0;34m\u001b[0m\u001b[0;34m\u001b[0m\u001b[0m\n\u001b[0m\u001b[1;32m     34\u001b[0m     \u001b[0;32mtry\u001b[0m\u001b[0;34m:\u001b[0m\u001b[0;34m\u001b[0m\u001b[0;34m\u001b[0m\u001b[0m\n\u001b[1;32m     35\u001b[0m         \u001b[0mresponse\u001b[0m \u001b[0;34m=\u001b[0m \u001b[0mmodel\u001b[0m\u001b[0;34m.\u001b[0m\u001b[0mgenerate_content\u001b[0m\u001b[0;34m(\u001b[0m\u001b[0mprompt\u001b[0m\u001b[0;34m)\u001b[0m\u001b[0;34m\u001b[0m\u001b[0;34m\u001b[0m\u001b[0m\n",
            "\u001b[0;31mNameError\u001b[0m: name 'genai' is not defined"
          ]
        }
      ]
    },
    {
      "cell_type": "code",
      "metadata": {
        "colab": {
          "base_uri": "https://localhost:8080/"
        },
        "id": "ccfbfdc5",
        "outputId": "accd892d-a9cb-4a7f-9bad-b187ba94a410"
      },
      "source": [
        "!pip install googlemaps openai"
      ],
      "execution_count": 10,
      "outputs": [
        {
          "output_type": "stream",
          "name": "stdout",
          "text": [
            "Collecting googlemaps\n",
            "  Downloading googlemaps-4.10.0.tar.gz (33 kB)\n",
            "  Preparing metadata (setup.py) ... \u001b[?25l\u001b[?25hdone\n",
            "Requirement already satisfied: openai in /usr/local/lib/python3.12/dist-packages (1.108.0)\n",
            "Requirement already satisfied: requests<3.0,>=2.20.0 in /usr/local/lib/python3.12/dist-packages (from googlemaps) (2.32.4)\n",
            "Requirement already satisfied: anyio<5,>=3.5.0 in /usr/local/lib/python3.12/dist-packages (from openai) (4.10.0)\n",
            "Requirement already satisfied: distro<2,>=1.7.0 in /usr/local/lib/python3.12/dist-packages (from openai) (1.9.0)\n",
            "Requirement already satisfied: httpx<1,>=0.23.0 in /usr/local/lib/python3.12/dist-packages (from openai) (0.28.1)\n",
            "Requirement already satisfied: jiter<1,>=0.4.0 in /usr/local/lib/python3.12/dist-packages (from openai) (0.11.0)\n",
            "Requirement already satisfied: pydantic<3,>=1.9.0 in /usr/local/lib/python3.12/dist-packages (from openai) (2.11.9)\n",
            "Requirement already satisfied: sniffio in /usr/local/lib/python3.12/dist-packages (from openai) (1.3.1)\n",
            "Requirement already satisfied: tqdm>4 in /usr/local/lib/python3.12/dist-packages (from openai) (4.67.1)\n",
            "Requirement already satisfied: typing-extensions<5,>=4.11 in /usr/local/lib/python3.12/dist-packages (from openai) (4.15.0)\n",
            "Requirement already satisfied: idna>=2.8 in /usr/local/lib/python3.12/dist-packages (from anyio<5,>=3.5.0->openai) (3.10)\n",
            "Requirement already satisfied: certifi in /usr/local/lib/python3.12/dist-packages (from httpx<1,>=0.23.0->openai) (2025.8.3)\n",
            "Requirement already satisfied: httpcore==1.* in /usr/local/lib/python3.12/dist-packages (from httpx<1,>=0.23.0->openai) (1.0.9)\n",
            "Requirement already satisfied: h11>=0.16 in /usr/local/lib/python3.12/dist-packages (from httpcore==1.*->httpx<1,>=0.23.0->openai) (0.16.0)\n",
            "Requirement already satisfied: annotated-types>=0.6.0 in /usr/local/lib/python3.12/dist-packages (from pydantic<3,>=1.9.0->openai) (0.7.0)\n",
            "Requirement already satisfied: pydantic-core==2.33.2 in /usr/local/lib/python3.12/dist-packages (from pydantic<3,>=1.9.0->openai) (2.33.2)\n",
            "Requirement already satisfied: typing-inspection>=0.4.0 in /usr/local/lib/python3.12/dist-packages (from pydantic<3,>=1.9.0->openai) (0.4.1)\n",
            "Requirement already satisfied: charset_normalizer<4,>=2 in /usr/local/lib/python3.12/dist-packages (from requests<3.0,>=2.20.0->googlemaps) (3.4.3)\n",
            "Requirement already satisfied: urllib3<3,>=1.21.1 in /usr/local/lib/python3.12/dist-packages (from requests<3.0,>=2.20.0->googlemaps) (2.5.0)\n",
            "Building wheels for collected packages: googlemaps\n",
            "  Building wheel for googlemaps (setup.py) ... \u001b[?25l\u001b[?25hdone\n",
            "  Created wheel for googlemaps: filename=googlemaps-4.10.0-py3-none-any.whl size=40714 sha256=30107043b7c73110d9f4ece1f1e954663436d1396cbbd32655764593194b0ed7\n",
            "  Stored in directory: /root/.cache/pip/wheels/4c/6a/a7/bbc6f5c200032025ee655deb5e163ce8594fa05e67d973aad6\n",
            "Successfully built googlemaps\n",
            "Installing collected packages: googlemaps\n",
            "Successfully installed googlemaps-4.10.0\n"
          ]
        }
      ]
    },
    {
      "cell_type": "code",
      "metadata": {
        "id": "68d004a6"
      },
      "source": [
        "from google.colab import userdata\n",
        "import googlemaps\n",
        "import openai\n",
        "import google.generativeai as genai\n",
        "\n",
        "GOOGLE_MAPS_KEY = userdata.get('GOOGLE_MAPS_KEY')\n",
        "GEMINI_KEY = userdata.get('GOOGLE_API_KEY')\n",
        "\n",
        "gmaps = googlemaps.Client(key=GOOGLE_MAPS_KEY)\n",
        "\n",
        "# if using Gemini (Google Generative AI SDK)\n",
        "genai.configure(api_key=GEMINI_KEY)"
      ],
      "execution_count": 11,
      "outputs": []
    },
    {
      "cell_type": "code",
      "metadata": {
        "colab": {
          "base_uri": "https://localhost:8080/",
          "height": 445
        },
        "id": "6629e966",
        "outputId": "bcea41f6-bdf4-4f7a-feee-0d8e72d624bc"
      },
      "source": [
        "i ddplan_travel()"
      ],
      "execution_count": 12,
      "outputs": [
        {
          "output_type": "stream",
          "name": "stdout",
          "text": [
            "Welcome to the AI-powered Travel Planner!\n",
            "Enter your origin: eluru\n",
            "Enter your destination: goa\n",
            "Enter your start date (YYYY-MM-DD): 2025-10-10\n",
            "Enter your end date (YYYY-MM-DD): 2025-10-15\n",
            "Enter your interests (comma-separated, e.g., historical sites, nature): nature, sites\n",
            "Enter your budget (e.g., low, medium, high, or a specific amount): medium\n",
            "\n",
            "Gathering real-time data...\n",
            "Error getting distance and duration for eluru to goa: REQUEST_DENIED (You’re calling a legacy API, which is not enabled for your project. To get newer features and more functionality, switch to the Places API (New) or Routes API. Learn more: https://developers.google.com/maps/legacy#LegacyApiNotActivatedMapError)\n",
            "\n",
            "Generating itinerary...\n"
          ]
        },
        {
          "output_type": "stream",
          "name": "stderr",
          "text": [
            "ERROR:tornado.access:503 POST /v1beta/models/gemini-pro:generateContent?%24alt=json%3Benum-encoding%3Dint (127.0.0.1) 1695.54ms\n",
            "WARNING:tornado.access:404 POST /v1beta/models/gemini-pro:generateContent?%24alt=json%3Benum-encoding%3Dint (127.0.0.1) 2074.14ms\n"
          ]
        },
        {
          "output_type": "stream",
          "name": "stdout",
          "text": [
            "Error generating itinerary with Gemini API: 404 POST https://generativelanguage.googleapis.com/v1beta/models/gemini-pro:generateContent?%24alt=json%3Benum-encoding%3Dint: models/gemini-pro is not found for API version v1beta, or is not supported for generateContent. Call ListModels to see the list of available models and their supported methods.\n",
            "\n",
            "Parsing itinerary...\n",
            "\n",
            "--- Your Personalized Travel Itinerary ---\n",
            "An error occurred while generating the itinerary. Please try again later.\n",
            "\n",
            "-----------------------------------------\n",
            "\n",
            "Travel planning complete!\n"
          ]
        }
      ]
    },
    {
      "cell_type": "code",
      "metadata": {
        "colab": {
          "base_uri": "https://localhost:8080/",
          "height": 378
        },
        "id": "2b94f1af",
        "outputId": "5016074a-c36f-4996-cde6-0507932d2bca"
      },
      "source": [
        "from google.colab import userdata\n",
        "import googlemaps\n",
        "import openai\n",
        "import google.generativeai as genai\n",
        "\n",
        "GOOGLE_MAPS_KEY = userdata.get('GOOGLE_MAPS_KEY')\n",
        "GEMINI_KEY = userdata.get('GOOGLE_API_KEY')\n",
        "\n",
        "gmaps = googlemaps.Client(key=GOOGLE_MAPS_KEY)\n",
        "\n",
        "# if using Gemini (Google Generative AI SDK)\n",
        "genai.configure(api_key=GEMINI_KEY)"
      ],
      "execution_count": 9,
      "outputs": [
        {
          "output_type": "error",
          "ename": "ModuleNotFoundError",
          "evalue": "No module named 'googlemaps'",
          "traceback": [
            "\u001b[0;31m---------------------------------------------------------------------------\u001b[0m",
            "\u001b[0;31mModuleNotFoundError\u001b[0m                       Traceback (most recent call last)",
            "\u001b[0;32m/tmp/ipython-input-2392313015.py\u001b[0m in \u001b[0;36m<cell line: 0>\u001b[0;34m()\u001b[0m\n\u001b[1;32m      1\u001b[0m \u001b[0;32mfrom\u001b[0m \u001b[0mgoogle\u001b[0m\u001b[0;34m.\u001b[0m\u001b[0mcolab\u001b[0m \u001b[0;32mimport\u001b[0m \u001b[0muserdata\u001b[0m\u001b[0;34m\u001b[0m\u001b[0;34m\u001b[0m\u001b[0m\n\u001b[0;32m----> 2\u001b[0;31m \u001b[0;32mimport\u001b[0m \u001b[0mgooglemaps\u001b[0m\u001b[0;34m\u001b[0m\u001b[0;34m\u001b[0m\u001b[0m\n\u001b[0m\u001b[1;32m      3\u001b[0m \u001b[0;32mimport\u001b[0m \u001b[0mopenai\u001b[0m\u001b[0;34m\u001b[0m\u001b[0;34m\u001b[0m\u001b[0m\n\u001b[1;32m      4\u001b[0m \u001b[0;32mimport\u001b[0m \u001b[0mgoogle\u001b[0m\u001b[0;34m.\u001b[0m\u001b[0mgenerativeai\u001b[0m \u001b[0;32mas\u001b[0m \u001b[0mgenai\u001b[0m\u001b[0;34m\u001b[0m\u001b[0;34m\u001b[0m\u001b[0m\n\u001b[1;32m      5\u001b[0m \u001b[0;34m\u001b[0m\u001b[0m\n",
            "\u001b[0;31mModuleNotFoundError\u001b[0m: No module named 'googlemaps'",
            "",
            "\u001b[0;31m---------------------------------------------------------------------------\u001b[0;32m\nNOTE: If your import is failing due to a missing package, you can\nmanually install dependencies using either !pip or !apt.\n\nTo view examples of installing some common dependencies, click the\n\"Open Examples\" button below.\n\u001b[0;31m---------------------------------------------------------------------------\u001b[0m\n"
          ],
          "errorDetails": {
            "actions": [
              {
                "action": "open_url",
                "actionText": "Open Examples",
                "url": "/notebooks/snippets/importing_libraries.ipynb"
              }
            ]
          }
        }
      ]
    },
    {
      "cell_type": "code",
      "metadata": {
        "id": "4dcce267"
      },
      "source": [
        "from google.colab import userdata\n",
        "import googlemaps\n",
        "import openai\n",
        "import google.generativeai as genai\n",
        "\n",
        "GOOGLE_MAPS_KEY = userdata.get('GOOGLE_MAPS_KEY')\n",
        "GEMINI_KEY = userdata.get('GOOGLE_API_KEY')\n",
        "\n",
        "gmaps = googlemaps.Client(key=GOOGLE_MAPS_KEY)\n",
        "\n",
        "# if using Gemini (Google Generative AI SDK)\n",
        "genai.configure(api_key=GEMINI_KEY)"
      ],
      "execution_count": 14,
      "outputs": []
    },
    {
      "cell_type": "code",
      "metadata": {
        "colab": {
          "base_uri": "https://localhost:8080/",
          "height": 411
        },
        "id": "075ba15d",
        "outputId": "bf178301-0e40-4fbe-b835-3116d134eca1"
      },
      "source": [
        "plan_travel()"
      ],
      "execution_count": 16,
      "outputs": [
        {
          "output_type": "stream",
          "name": "stdout",
          "text": [
            "Welcome to the AI-powered Travel Planner!\n",
            "Enter your origin: eluru\n",
            "Enter your destination: goa\n",
            "Enter your start date (YYYY-MM-DD): 2025-10-10\n",
            "Enter your end date (YYYY-MM-DD): 2025-10-15\n",
            "Enter your interests (comma-separated, e.g., historical sites, nature): naturre, sites\n",
            "Enter your budget (e.g., low, medium, high, or a specific amount): medium\n",
            "\n",
            "Gathering real-time data...\n",
            "\n",
            "Generating itinerary...\n"
          ]
        },
        {
          "output_type": "stream",
          "name": "stderr",
          "text": [
            "WARNING:tornado.access:404 POST /v1beta/models/gemini-1.5-pro:generateContent?%24alt=json%3Benum-encoding%3Dint (127.0.0.1) 2125.87ms\n"
          ]
        },
        {
          "output_type": "stream",
          "name": "stdout",
          "text": [
            "Error generating itinerary with Gemini API: 404 POST https://generativelanguage.googleapis.com/v1beta/models/gemini-1.5-pro:generateContent?%24alt=json%3Benum-encoding%3Dint: models/gemini-1.5-pro is not found for API version v1beta, or is not supported for generateContent. Call ListModels to see the list of available models and their supported methods.\n",
            "\n",
            "Parsing itinerary...\n",
            "\n",
            "--- Your Personalized Travel Itinerary ---\n",
            "An error occurred while generating the itinerary. Please try again later.\n",
            "\n",
            "-----------------------------------------\n",
            "\n",
            "Travel planning complete!\n"
          ]
        }
      ]
    },
    {
      "cell_type": "code",
      "metadata": {
        "colab": {
          "base_uri": "https://localhost:8080/",
          "height": 391
        },
        "id": "ad507223",
        "outputId": "417619ec-898f-4a2a-9b39-0cb910dc50fc"
      },
      "source": [
        "plan_travel()"
      ],
      "execution_count": 19,
      "outputs": [
        {
          "output_type": "stream",
          "name": "stdout",
          "text": [
            "Welcome to the AI-powered Travel Planner!\n",
            "Enter your origin: eluru\n",
            "Enter your destination: goa\n",
            "Enter your start date (YYYY-MM-DD): 2025-10-10\n",
            "Enter your end date (YYYY-MM-DD): 2025-10-15\n",
            "Enter your interests (comma-separated, e.g., historical sites, nature): sites, nature\n",
            "Enter your budget (e.g., low, medium, high, or a specific amount): medium\n",
            "\n",
            "Gathering real-time data...\n",
            "\n",
            "Generating itinerary...\n",
            "\n",
            "Parsing itinerary...\n",
            "\n",
            "--- Your Personalized Travel Itinerary ---\n",
            "No daily plans were generated for this itinerary.\n",
            "\n",
            "Total Estimated Budget: *   **** **₹21,000 - ₹23,000 per person**\n",
            "\n",
            "-----------------------------------------\n",
            "\n",
            "Travel planning complete!\n"
          ]
        }
      ]
    },
    {
      "cell_type": "code",
      "metadata": {
        "colab": {
          "base_uri": "https://localhost:8080/",
          "height": 1000
        },
        "id": "8835c8cd",
        "outputId": "a3bd98b5-b8cb-4276-d63e-7c282eaa5667"
      },
      "source": [
        "plan_travel()"
      ],
      "execution_count": 22,
      "outputs": [
        {
          "output_type": "stream",
          "name": "stdout",
          "text": [
            "Welcome to the AI-powered Travel Planner!\n",
            "Enter your origin: eluru\n",
            "Enter your destination: goa\n",
            "Enter your start date (YYYY-MM-DD): 2025-10-10\n",
            "Enter your end date (YYYY-MM-DD): 2025-10-15\n",
            "Enter your interests (comma-separated, e.g., historical sites, nature): nature, sites\n",
            "Enter your budget (e.g., low, medium, high, or a specific amount): medium\n",
            "\n",
            "Gathering real-time data...\n",
            "\n",
            "Generating itinerary...\n",
            "\n",
            "--- Raw Itinerary Text from Gemini API ---\n",
            "Of course! Hey there, future Goa explorer! As your AI travel planner, I've put together a personalized and budget-friendly itinerary for your trip from Eluru. This plan is crafted specifically for a student's medium budget, focusing on your interests in nature and historical sites.\n",
            "\n",
            "Let's get this adventure started!\n",
            "\n",
            "### **Goa Trip Overview**\n",
            "\n",
            "*   **Destination:** Goa, India\n",
            "*   **Travel Dates:** October 10, 2025 - October 15, 2025 (6 Days, 5 Nights)\n",
            "*   **Interests:** Nature, Sites\n",
            "*   **Budget:** Medium\n",
            "*   **Trip Vibe:** A perfect mix of exploring Goa's rich history, chilling on beautiful beaches, and soaking in its natural beauty.\n",
            "\n",
            "---\n",
            "\n",
            "### **Daily Itinerary**\n",
            "\n",
            "#### **Day 1: The Journey Begins (Friday, Oct 10, 2025)**\n",
            "\n",
            "*   **Theme:** Travel Day\n",
            "*   **Plan:** The journey from Eluru to Goa is a long one (approx. 19 hours). The most budget-friendly and practical option for students is an overnight train.\n",
            "*   **Morning/Afternoon:** Pack your bags, grab some snacks for the journey, and head to the Eluru Railway Station.\n",
            "*   **Evening:** Board your overnight train to Goa. The main stations in Goa are Madgaon (MAO) or Vasco da Gama (VSG). Settle in for the long ride!\n",
            "*   **Transportation:** Indian Railways Train (Sleeper Class or 3A).\n",
            "*   **Estimated Cost:**\n",
            "    *   Train Ticket (one way): ₹500 - ₹900 per person (Book in advance for better prices!)\n",
            "    *   Food/Snacks for train: ₹300\n",
            "\n",
            "**Daily Total: ~₹1,000**\n",
            "\n",
            "---\n",
            "\n",
            "#### **Day 2: Arrival in Sunny Goa & North Goa Vibes (Saturday, Oct 11, 2025)**\n",
            "\n",
            "*   **Theme:** Settle in and hit the famous beaches.\n",
            "*   **Morning (Around 1 PM):** Arrive at Madgaon/Vasco station. Take a local bus or a pre-paid taxi to your accommodation in North Goa (Baga/Calangute area is a good base for students). Check in, freshen up, and grab lunch at a local cafe.\n",
            "*   **Afternoon:** This is the key to exploring Goa on a budget: rent a scooter! It gives you total freedom. After getting your ride, head to **Calangute Beach**, one of Goa's most famous coastlines. Walk along the shore and just soak in the atmosphere.\n",
            "*   **Evening:** Ride over to the adjoining **Baga Beach**. Find a nice beach shack, enjoy the sunset with some snacks, and watch the place come alive.\n",
            "*   **Transportation:**\n",
            "    *   Taxi from station to hotel: ~₹1,200 (or local bus for ~₹100)\n",
            "    *   Scooter Rental (per day): ₹300 - ₹400\n",
            "*   **Estimated Cost:**\n",
            "    *   Accommodation: ₹1,200 (for a budget guesthouse/hostel)\n",
            "    *   Scooter Rental + Petrol: ₹500\n",
            "    *   Food & Drinks: ₹800\n",
            "\n",
            "**Daily Total: ~₹2,500**\n",
            "\n",
            "---\n",
            "\n",
            "#### **Day 3: A Walk Through History (Sunday, Oct 12, 2025)**\n",
            "\n",
            "*   **Theme:** Exploring Goa's rich Portuguese heritage.\n",
            "*   **Morning:** After breakfast, ride to **Old Goa (Velha Goa)**, a UNESCO World Heritage site. Explore the magnificent churches that stand as a testament to its colonial past. Don't miss the **Basilica of Bom Jesus** (which holds the remains of St. Francis Xavier) and the **Sé Cathedral**. Entry is free for both.\n",
            "*   **Afternoon:** Head to **Panjim**, the state capital. Have lunch at a local eatery. Afterwards, wander through the charming Latin Quarter of **Fontainhas**, with its colourful Portuguese-style houses and winding alleys. It’s a perfect spot for photos!\n",
            "*   **Evening:** Ride up to the **Reis Magos Fort** for a stunning sunset view over the Mandovi River. It's less crowded than other forts and beautifully restored.\n",
            "*   **Transportation:** Scooter.\n",
            "*   **Estimated Cost:**\n",
            "    *   Accommodation: ₹1,200\n",
            "    *   Reis Magos Fort Entry: ~₹50 per person\n",
            "    *   Food & Drinks: ₹800\n",
            "    *   Petrol: ₹200\n",
            "\n",
            "**Daily Total: ~₹2,250**\n",
            "\n",
            "---\n",
            "\n",
            "#### **Day 4: Forts, Views, and Nature's Touch (Monday, Oct 13, 2025)**\n",
            "\n",
            "*   **Theme:** Coastal forts and lush greenery.\n",
            "*   **Morning:** Ride to **Fort Aguada**. Explore the iconic fort and its lighthouse, which offer breathtaking panoramic views of the Arabian Sea. This is a classic \"site\" you don't want to miss.\n",
            "*   **Afternoon:** Time for some nature! Visit a **Spice Plantation** (like Sahakari Spice Farm). You'll get a guided tour to see how various spices are grown, followed by a traditional Goan lunch. It's a unique and refreshing experience.\n",
            "*   **Evening:** Head to the cliffs of **Vagator Beach**. See the famous \"Shiva face\" carved into a rock and then find a spot at a clifftop cafe (like Titlie or an adjacent shack) to watch one of the best sunsets in Goa.\n",
            "*   **Transportation:** Scooter.\n",
            "*   **Estimated Cost:**\n",
            "    *   Accommodation: ₹1,200\n",
            "    *   Fort Aguada Entry: ~₹25 per person\n",
            "    *   Spice Plantation Tour + Lunch: ~₹500 per person\n",
            "    *   Food & Drinks (Evening): ₹500\n",
            "    *   Petrol: ₹200\n",
            "\n",
            "**Daily Total: ~₹2,425**\n",
            "\n",
            "---\n",
            "\n",
            "#### **Day 5: Last Dip and The Journey Home (Tuesday, Oct 14, 2025)**\n",
            "\n",
            "*   **Theme:** Last-minute exploration and departure.\n",
            "*   **Morning:** Visit **Anjuna Beach**, famous for its rocky shores. If it happens to be a Wednesday, you could visit the famous Anjuna Flea Market for some souvenir shopping. If not, it's still a great beach to relax on.\n",
            "*   **Afternoon:** Have a final, delicious Goan seafood lunch at a beach shack. Pack your bags and check out of your accommodation. You can leave your luggage at the front desk.\n",
            "*   **Evening:** Spend your last few hours relaxing on a nearby beach or doing some last-minute shopping. Head to the Madgaon/Vasco railway station to catch your overnight train back to Eluru.\n",
            "*   **Transportation:** Scooter for the day, then bus/taxi to the station.\n",
            "*   **Estimated Cost:**\n",
            "    *   Food & Souvenirs: ₹1,000\n",
            "    *   Train Ticket (one way): ₹500 - ₹900\n",
            "    *   Taxi to station: ~₹1,200 (or bus for ~₹100)\n",
            "\n",
            "**Daily Total: ~₹2,900**\n",
            "\n",
            "---\n",
            "\n",
            "#### **Day 6: Back to Eluru (Wednesday, Oct 15, 2025)**\n",
            "\n",
            "*   **Theme:** Homeward Bound\n",
            "*   **Plan:** You'll be on the train for most of the day. Time to relax, look through your photos, and plan your next trip! You will arrive back in Eluru by the afternoon or evening.\n",
            "*   **Estimated Cost:**\n",
            "    *   Food on train: ₹300\n",
            "\n",
            "**Daily Total: ~₹300**\n",
            "\n",
            "---\n",
            "\n",
            "### **Total Estimated Budget (Per Person)**\n",
            "\n",
            "This is a breakdown for a single traveler. If you are traveling in a group, costs for accommodation and taxis can be split.\n",
            "\n",
            "*   **Round-Trip Train Fare:** ~₹1,600\n",
            "*   **Accommodation (3 nights):** ~₹3,600\n",
            "*   **Local Transport (Scooter + Taxis):** ~₹2,500\n",
            "*   **Food & Drinks:** ~₹3,700\n",
            "*   **Activities & Entry Fees:** ~₹600\n",
            "*   **Miscellaneous/Buffer:** ~₹1,000\n",
            "\n",
            "**Grand Total Estimated Cost: ~₹13,000 per person**\n",
            "\n",
            "This fits perfectly within a medium budget for a 6-day trip, offering a fantastic mix of activities without breaking the bank.\n",
            "\n",
            "### **Pro-Tips for a Student Traveler**\n",
            "\n",
            "*   **Book in Advance:** Train tickets and good budget accommodations get filled up quickly, especially in October which is the start of the tourist season.\n",
            "*   **Carry ID:** Always have your student ID and a government-issued ID for check-ins and potential discounts.\n",
            "*   **Stay Hydrated:** Goa is humid. Always carry a water bottle.\n",
            "*   **Bargain:** When shopping at local markets (like the flea market), don't hesitate to bargain respectfully.\n",
            "*   **Eat Local:** Avoid fancy restaurants. The best and most authentic Goan food is found in small local eateries and beach shacks.\n",
            "\n",
            "Have an amazing and unforgettable trip to Goa! Safe travels\n",
            "-------------------------------------------\n",
            "\n",
            "Parsing itinerary...\n",
            "\n",
            "--- Your Personalized Travel Itinerary ---\n",
            "\n",
            "N/A:\n",
            "  Activities:\n",
            "    No activities planned for this day.\n",
            "  Transportation:\n",
            "    1. **Estimated Cost:**\n",
            "    2. Train Ticket (one way): ₹500 - ₹900 per person (Book in advance for better prices!)\n",
            "    3. Food/Snacks for train: ₹300\n",
            "    4. **Daily Total: ~₹1,000**\n",
            "    5. ---\n",
            "    6. #### **\n",
            "\n",
            "N/A:\n",
            "  Activities:\n",
            "    No activities planned for this day.\n",
            "  Transportation:\n",
            "    1. Taxi from station to hotel: ~₹1,200 (or local bus for ~₹100)\n",
            "    2. Scooter Rental (per day): ₹300 - ₹400\n",
            "    3. **Estimated Cost:**\n",
            "    4. Accommodation: ₹1,200 (for a budget guesthouse/hostel)\n",
            "    5. Scooter Rental + Petrol: ₹500\n",
            "    6. Food & Drinks: ₹800\n",
            "    7. **Daily Total: ~₹2,500**\n",
            "    8. ---\n",
            "    9. #### **\n",
            "\n",
            "N/A:\n",
            "  Activities:\n",
            "    No activities planned for this day.\n",
            "  Transportation:\n",
            "    1. **Estimated Cost:**\n",
            "    2. Accommodation: ₹1,200\n",
            "    3. Reis Magos Fort Entry: ~₹50 per person\n",
            "    4. Food & Drinks: ₹800\n",
            "    5. Petrol: ₹200\n",
            "    6. **Daily Total: ~₹2,250**\n",
            "    7. ---\n",
            "    8. #### **\n",
            "\n",
            "N/A:\n",
            "  Activities:\n",
            "    No activities planned for this day.\n",
            "  Transportation:\n",
            "    1. **Estimated Cost:**\n",
            "    2. Accommodation: ₹1,200\n",
            "    3. Fort Aguada Entry: ~₹25 per person\n",
            "    4. Spice Plantation Tour + Lunch: ~₹500 per person\n",
            "    5. Food & Drinks (Evening): ₹500\n",
            "    6. Petrol: ₹200\n",
            "    7. **Daily Total: ~₹2,425**\n",
            "    8. ---\n",
            "    9. #### **\n",
            "\n",
            "N/A:\n",
            "  Activities:\n",
            "    No activities planned for this day.\n",
            "  Transportation:\n",
            "    1. **Estimated Cost:**\n",
            "    2. Food & Souvenirs: ₹1,000\n",
            "    3. Train Ticket (one way): ₹500 - ₹900\n",
            "    4. Taxi to station: ~₹1,200 (or bus for ~₹100)\n",
            "    5. **Daily Total: ~₹2,900**\n",
            "    6. ---\n",
            "    7. #### **\n",
            "\n",
            "Total Estimated Budget: Not specified\n",
            "\n",
            "-----------------------------------------\n",
            "\n",
            "Travel planning complete!\n"
          ]
        }
      ]
    },
    {
      "cell_type": "code",
      "metadata": {
        "colab": {
          "base_uri": "https://localhost:8080/",
          "height": 680
        },
        "id": "93f9e8b1",
        "outputId": "6c7bdc6b-be2b-4cb1-8e0a-919c578cbfd6"
      },
      "source": [
        "for m in genai.list_models():\n",
        "  if 'generateContent' in m.supported_generation_methods:\n",
        "    print(m.name)"
      ],
      "execution_count": 17,
      "outputs": [
        {
          "output_type": "stream",
          "name": "stdout",
          "text": [
            "models/gemini-2.5-pro-preview-03-25\n",
            "models/gemini-2.5-flash-preview-05-20\n",
            "models/gemini-2.5-flash\n",
            "models/gemini-2.5-flash-lite-preview-06-17\n",
            "models/gemini-2.5-pro-preview-05-06\n",
            "models/gemini-2.5-pro-preview-06-05\n",
            "models/gemini-2.5-pro\n",
            "models/gemini-2.0-flash-exp\n",
            "models/gemini-2.0-flash\n",
            "models/gemini-2.0-flash-001\n",
            "models/gemini-2.0-flash-exp-image-generation\n",
            "models/gemini-2.0-flash-lite-001\n",
            "models/gemini-2.0-flash-lite\n",
            "models/gemini-2.0-flash-preview-image-generation\n",
            "models/gemini-2.0-flash-lite-preview-02-05\n",
            "models/gemini-2.0-flash-lite-preview\n",
            "models/gemini-2.0-pro-exp\n",
            "models/gemini-2.0-pro-exp-02-05\n",
            "models/gemini-exp-1206\n",
            "models/gemini-2.0-flash-thinking-exp-01-21\n",
            "models/gemini-2.0-flash-thinking-exp\n",
            "models/gemini-2.0-flash-thinking-exp-1219\n",
            "models/gemini-2.5-flash-preview-tts\n",
            "models/gemini-2.5-pro-preview-tts\n",
            "models/learnlm-2.0-flash-experimental\n",
            "models/gemma-3-1b-it\n",
            "models/gemma-3-4b-it\n",
            "models/gemma-3-12b-it\n",
            "models/gemma-3-27b-it\n",
            "models/gemma-3n-e4b-it\n",
            "models/gemma-3n-e2b-it\n",
            "models/gemini-flash-latest\n",
            "models/gemini-flash-lite-latest\n",
            "models/gemini-pro-latest\n",
            "models/gemini-2.5-flash-lite\n",
            "models/gemini-2.5-flash-image-preview\n",
            "models/gemini-2.5-flash-preview-09-2025\n",
            "models/gemini-2.5-flash-lite-preview-09-2025\n",
            "models/gemini-robotics-er-1.5-preview\n"
          ]
        }
      ]
    },
    {
      "cell_type": "code",
      "metadata": {
        "id": "efda6e3b"
      },
      "source": [
        "from google.colab import userdata\n",
        "import googlemaps\n",
        "import openai\n",
        "import google.generativeai as genai\n",
        "\n",
        "GOOGLE_MAPS_KEY = userdata.get('GOOGLE_MAPS_KEY')\n",
        "GEMINI_KEY = userdata.get('GOOGLE_API_KEY')\n",
        "\n",
        "gmaps = googlemaps.Client(key=GOOGLE_MAPS_KEY)\n",
        "\n",
        "# if using Gemini (Google Generative AI SDK)\n",
        "genai.configure(api_key=GEMINI_KEY)"
      ],
      "execution_count": 15,
      "outputs": []
    },
    {
      "cell_type": "code",
      "source": [
        "from google.colab import userdata\n",
        "import googlemaps\n",
        "import openai\n",
        "import google.generativeai as genai\n",
        "\n",
        "GOOGLE_MAPS_KEY = userdata.get('GOOGLE_MAPS_KEY')\n",
        "GEMINI_KEY = userdata.get('GOOGLE_API_KEY')\n",
        "\n",
        "gmaps = googlemaps.Client(key=GOOGLE_MAPS_KEY)\n",
        "\n",
        "# if using Gemini (Google Generative AI SDK)\n",
        "genai.configure(api_key=GEMINI_KEY)"
      ],
      "metadata": {
        "id": "iFEOhIEEPa6R"
      },
      "execution_count": null,
      "outputs": []
    },
    {
      "cell_type": "code",
      "source": [
        "from google.colab import userdata\n",
        "\n",
        "GOOGLE_MAPS_KEY = userdata.get('GOOGLE_MAPS_KEY')\n",
        "GEMINI_KEY = userdata.get('GOOGLE_API_KEY')\n",
        "\n",
        "print(\"Maps Key starts with:\", GOOGLE_MAPS_KEY[:6])\n",
        "print(\"Gemini Key starts with:\", GEMINI_KEY[:6])"
      ],
      "metadata": {
        "colab": {
          "base_uri": "https://localhost:8080/"
        },
        "id": "CRgfqTngUkyA",
        "outputId": "19ba2b00-6fbb-4164-e9f3-5c83b8713479"
      },
      "execution_count": null,
      "outputs": [
        {
          "output_type": "stream",
          "name": "stdout",
          "text": [
            "Maps Key starts with: AIzaSy\n",
            "Gemini Key starts with: AIzaSy\n"
          ]
        }
      ]
    },
    {
      "cell_type": "code",
      "source": [],
      "metadata": {
        "id": "EHfXT2_7WfCr"
      },
      "execution_count": null,
      "outputs": []
    },
    {
      "cell_type": "markdown",
      "metadata": {
        "id": "b3ad205f"
      },
      "source": [
        "# Task\n",
        "Build an AI-powered travel planner for students in Google Colab that takes user inputs (origin, destination, dates, interests, budget) and generates a personalized, budget-friendly itinerary using the Google Maps API and the Gemini API. The output should include daily plans, transportation options with costs, and a total budget, presented in a user-friendly format."
      ]
    },
    {
      "cell_type": "markdown",
      "metadata": {
        "id": "e928dc89"
      },
      "source": [
        "## Define the user interface (ui) inputs\n",
        "\n",
        "### Subtask:\n",
        "Determine the specific inputs required from the user (origin, destination, dates, interests, budget, etc.).\n"
      ]
    },
    {
      "cell_type": "markdown",
      "metadata": {
        "id": "07e67017"
      },
      "source": [
        "**Reasoning**:\n",
        "List the required user inputs as a list of strings.\n",
        "\n"
      ]
    },
    {
      "cell_type": "code",
      "metadata": {
        "colab": {
          "base_uri": "https://localhost:8080/"
        },
        "id": "936921eb",
        "outputId": "de410536-960c-4726-8cc4-78102819091c"
      },
      "source": [
        "required_inputs = [\n",
        "    \"Origin\",\n",
        "    \"Destination\",\n",
        "    \"Start Date\",\n",
        "    \"End Date\",\n",
        "    \"Interests (e.g., historical sites, nature, food, adventure)\",\n",
        "    \"Budget (e.g., low, medium, high, or a specific amount)\"\n",
        "]\n",
        "\n",
        "print(\"Required user inputs for the AI travel planner:\")\n",
        "for item in required_inputs:\n",
        "    print(f\"- {item}\")"
      ],
      "execution_count": null,
      "outputs": [
        {
          "output_type": "stream",
          "name": "stdout",
          "text": [
            "Required user inputs for the AI travel planner:\n",
            "- Origin\n",
            "- Destination\n",
            "- Start Date\n",
            "- End Date\n",
            "- Interests (e.g., historical sites, nature, food, adventure)\n",
            "- Budget (e.g., low, medium, high, or a specific amount)\n"
          ]
        }
      ]
    },
    {
      "cell_type": "markdown",
      "metadata": {
        "id": "4c4f07d7"
      },
      "source": [
        "## Gather real-time data\n",
        "\n",
        "### Subtask:\n",
        "Implement functions to get real-time data using the Google Maps API for transportation options, distances, and potentially place details.\n"
      ]
    },
    {
      "cell_type": "code",
      "metadata": {
        "colab": {
          "base_uri": "https://localhost:8080/"
        },
        "id": "ef68a785",
        "outputId": "9cd594d8-9e51-440a-bc91-91c080460cdd"
      },
      "source": [
        "required_inputs = [\n",
        "    \"Origin\",\n",
        "    \"Destination\",\n",
        "    \"Start Date\",\n",
        "    \"End Date\",\n",
        "    \"Interests (e.g., historical sites, nature, food, adventure)\",\n",
        "    \"Budget (e.g., low, medium, high, or a specific amount)\"\n",
        "]\n",
        "\n",
        "print(\"Required user inputs for the AI travel planner:\")\n",
        "for item in required_inputs:\n",
        "    print(f\"- {item}\")"
      ],
      "execution_count": null,
      "outputs": [
        {
          "output_type": "stream",
          "name": "stdout",
          "text": [
            "Required user inputs for the AI travel planner:\n",
            "- Origin\n",
            "- Destination\n",
            "- Start Date\n",
            "- End Date\n",
            "- Interests (e.g., historical sites, nature, food, adventure)\n",
            "- Budget (e.g., low, medium, high, or a specific amount)\n"
          ]
        }
      ]
    },
    {
      "cell_type": "markdown",
      "metadata": {
        "id": "bd991b7b"
      },
      "source": [
        "**Reasoning**:\n",
        "Define the three functions to interact with the Google Maps API as described in the instructions.\n",
        "\n"
      ]
    },
    {
      "cell_type": "code",
      "metadata": {
        "id": "785a1b58"
      },
      "source": [
        "def get_distance_and_duration(origin, destination):\n",
        "    \"\"\"Gets the distance and duration between two locations using Google Maps API.\"\"\"\n",
        "    try:\n",
        "        matrix = gmaps.distance_matrix(origin, destination, mode=\"driving\")\n",
        "        if matrix['status'] == 'OK' and matrix['rows'][0]['elements'][0]['status'] == 'OK':\n",
        "            element = matrix['rows'][0]['elements'][0]\n",
        "            distance = element['distance']['text']\n",
        "            duration = element['duration']['text']\n",
        "            return distance, duration\n",
        "        else:\n",
        "            return None, None\n",
        "    except Exception as e:\n",
        "        print(f\"Error getting distance and duration: {e}\")\n",
        "        return None, None\n",
        "\n",
        "def get_place_details(place_id):\n",
        "    \"\"\"Gets details of a place using Google Maps API.\"\"\"\n",
        "    try:\n",
        "        place = gmaps.place(place_id)\n",
        "        if place['status'] == 'OK':\n",
        "            details = place['result']\n",
        "            name = details.get('name')\n",
        "            address = details.get('formatted_address')\n",
        "            rating = details.get('rating')\n",
        "            return name, address, rating\n",
        "        else:\n",
        "            return None, None, None\n",
        "    except Exception as e:\n",
        "        print(f\"Error getting place details: {e}\")\n",
        "        return None, None, None\n",
        "\n",
        "def get_nearby_places(location, radius, type):\n",
        "    \"\"\"Finds nearby places of a specific type using Google Maps API.\"\"\"\n",
        "    try:\n",
        "        places_result = gmaps.places(location=location, radius=radius, type=type)\n",
        "        if places_result['status'] == 'OK':\n",
        "            return places_result['results']\n",
        "        else:\n",
        "            return []\n",
        "    except Exception as e:\n",
        "        print(f\"Error getting nearby places: {e}\")\n",
        "        return []\n"
      ],
      "execution_count": null,
      "outputs": []
    },
    {
      "cell_type": "markdown",
      "metadata": {
        "id": "40db1ec5"
      },
      "source": [
        "## Design the ai prompt for itinerary generation\n",
        "\n",
        "### Subtask:\n",
        "Craft a detailed prompt for the Gemini model that incorporates user inputs and retrieved data to generate a personalized itinerary.\n"
      ]
    },
    {
      "cell_type": "markdown",
      "metadata": {
        "id": "cf3516b9"
      },
      "source": [
        "**Reasoning**:\n",
        "Define the prompt template for the Gemini model, including placeholders for user inputs and instructions for generating the itinerary.\n",
        "\n"
      ]
    },
    {
      "cell_type": "code",
      "metadata": {
        "colab": {
          "base_uri": "https://localhost:8080/"
        },
        "id": "12e6da72",
        "outputId": "021a892c-a6bf-43aa-db85-cb3610473f9d"
      },
      "source": [
        "itinerary_prompt_template = \"\"\"\n",
        "You are an AI travel planner. Your task is to create a personalized, budget-friendly travel itinerary based on the user's inputs and provided data.\n",
        "\n",
        "User Inputs:\n",
        "Origin: {origin}\n",
        "Destination: {destination}\n",
        "Start Date: {start_date}\n",
        "End Date: {end_date}\n",
        "Interests: {interests}\n",
        "Budget: {budget}\n",
        "\n",
        "Real-time Data:\n",
        "{real_time_data}\n",
        "\n",
        "Instructions:\n",
        "1. Act as a knowledgeable and helpful travel planner for students.\n",
        "2. Generate a daily itinerary from the start date to the end date.\n",
        "3. For each day, suggest activities and attractions based on the user's interests and budget.\n",
        "4. Suggest cost-effective transportation options between locations, considering the provided real-time data (distances, travel times).\n",
        "5. Estimate the cost for each activity and transportation option where possible.\n",
        "6. Provide a total estimated budget for the entire trip.\n",
        "7. Present the itinerary in a clear, structured, and easy-to-read format, with a daily breakdown.\n",
        "8. Ensure the suggestions align with the user's specified budget (e.g., suggest free or low-cost activities for a low budget).\n",
        "\"\"\"\n",
        "\n",
        "print(itinerary_prompt_template)"
      ],
      "execution_count": null,
      "outputs": [
        {
          "output_type": "stream",
          "name": "stdout",
          "text": [
            "\n",
            "You are an AI travel planner. Your task is to create a personalized, budget-friendly travel itinerary based on the user's inputs and provided data.\n",
            "\n",
            "User Inputs:\n",
            "Origin: {origin}\n",
            "Destination: {destination}\n",
            "Start Date: {start_date}\n",
            "End Date: {end_date}\n",
            "Interests: {interests}\n",
            "Budget: {budget}\n",
            "\n",
            "Real-time Data:\n",
            "{real_time_data}\n",
            "\n",
            "Instructions:\n",
            "1. Act as a knowledgeable and helpful travel planner for students.\n",
            "2. Generate a daily itinerary from the start date to the end date.\n",
            "3. For each day, suggest activities and attractions based on the user's interests and budget.\n",
            "4. Suggest cost-effective transportation options between locations, considering the provided real-time data (distances, travel times).\n",
            "5. Estimate the cost for each activity and transportation option where possible.\n",
            "6. Provide a total estimated budget for the entire trip.\n",
            "7. Present the itinerary in a clear, structured, and easy-to-read format, with a daily breakdown.\n",
            "8. Ensure the suggestions align with the user's specified budget (e.g., suggest free or low-cost activities for a low budget).\n",
            "\n"
          ]
        }
      ]
    },
    {
      "cell_type": "markdown",
      "metadata": {
        "id": "c3daa3d3"
      },
      "source": [
        "## Implement the itinerary generation\n",
        "\n",
        "### Subtask:\n",
        "Use the Gemini API to generate the itinerary based on the defined prompt.\n"
      ]
    },
    {
      "cell_type": "markdown",
      "metadata": {
        "id": "47788678"
      },
      "source": [
        "**Reasoning**:\n",
        "Define a function to generate the itinerary using the Gemini API based on the defined prompt and user inputs.\n",
        "\n"
      ]
    },
    {
      "cell_type": "code",
      "metadata": {
        "id": "01bd98c5"
      },
      "source": [
        "def generate_itinerary(origin, destination, start_date, end_date, interests, budget, real_time_data):\n",
        "    \"\"\"Generates a travel itinerary using the Gemini API.\"\"\"\n",
        "    prompt = itinerary_prompt_template.format(\n",
        "        origin=origin,\n",
        "        destination=destination,\n",
        "        start_date=start_date,\n",
        "        end_date=end_date,\n",
        "        interests=interests,\n",
        "        budget=budget,\n",
        "        real_time_data=real_time_data\n",
        "    )\n",
        "    model = genai.GenerativeModel('gemini-pro')\n",
        "    response = model.generate_content(prompt)\n",
        "    return response.text\n"
      ],
      "execution_count": null,
      "outputs": []
    },
    {
      "cell_type": "markdown",
      "metadata": {
        "id": "114b4075"
      },
      "source": [
        "## Process and format the output\n",
        "\n",
        "### Subtask:\n",
        "Parse the AI-generated itinerary and format it in a user-friendly way, including details like daily plans, transportation options with costs, and total budget.\n"
      ]
    },
    {
      "cell_type": "markdown",
      "metadata": {
        "id": "de6d3448"
      },
      "source": [
        "**Reasoning**:\n",
        "Define a function to parse the raw text output from the Gemini API and structure it into a user-friendly format.\n",
        "\n"
      ]
    },
    {
      "cell_type": "code",
      "metadata": {
        "id": "d899044f"
      },
      "source": [
        "import re\n",
        "\n",
        "def parse_itinerary(raw_itinerary_text):\n",
        "    \"\"\"Parses the raw AI-generated itinerary text into a structured format.\"\"\"\n",
        "    itinerary_data = {}\n",
        "    daily_plans = []\n",
        "    total_budget = \"Not specified\"\n",
        "\n",
        "    # Split the text into potential daily sections\n",
        "    days = re.split(r'Day \\d+:', raw_itinerary_text)\n",
        "\n",
        "    for day in days:\n",
        "        day = day.strip()\n",
        "        if not day:\n",
        "            continue\n",
        "\n",
        "        # Extract day number\n",
        "        day_match = re.search(r'Day (\\d+)', day)\n",
        "        day_number = day_match.group(1) if day_match else \"N/A\"\n",
        "\n",
        "        daily_plan = {\n",
        "            \"day\": day_number,\n",
        "            \"activities\": [],\n",
        "            \"transportation\": []\n",
        "        }\n",
        "\n",
        "        # Extract activities and transportation\n",
        "        lines = day.split('\\n')\n",
        "        current_section = None\n",
        "        for line in lines:\n",
        "            line = line.strip()\n",
        "            if not line:\n",
        "                continue\n",
        "\n",
        "            if \"Activities:\" in line:\n",
        "                current_section = \"activities\"\n",
        "                continue\n",
        "            elif \"Transportation:\" in line:\n",
        "                current_section = \"transportation\"\n",
        "                continue\n",
        "            elif \"Total Estimated Budget:\" in line:\n",
        "                total_budget = line.replace(\"Total Estimated Budget:\", \"\").strip()\n",
        "                current_section = None # Stop processing lines for daily plan once total budget is found\n",
        "                continue\n",
        "\n",
        "            if current_section == \"activities\":\n",
        "                daily_plan[\"activities\"].append(line)\n",
        "            elif current_section == \"transportation\":\n",
        "                daily_plan[\"transportation\"].append(line)\n",
        "\n",
        "        if daily_plan[\"activities\"] or daily_plan[\"transportation\"]:\n",
        "            daily_plans.append(daily_plan)\n",
        "\n",
        "    itinerary_data[\"daily_plans\"] = daily_plans\n",
        "    itinerary_data[\"total_budget\"] = total_budget\n",
        "\n",
        "    return itinerary_data\n"
      ],
      "execution_count": null,
      "outputs": []
    },
    {
      "cell_type": "markdown",
      "metadata": {
        "id": "be763065"
      },
      "source": [
        "## Present the output\n",
        "\n",
        "### Subtask:\n",
        "Display the generated itinerary to the user in a clear and organized format.\n"
      ]
    },
    {
      "cell_type": "markdown",
      "metadata": {
        "id": "a77e3728"
      },
      "source": [
        "**Reasoning**:\n",
        "Define the `display_itinerary` function to print the parsed itinerary data in a user-friendly format as described in the instructions.\n",
        "\n"
      ]
    },
    {
      "cell_type": "code",
      "metadata": {
        "id": "e81900e0"
      },
      "source": [
        "def display_itinerary(itinerary_data):\n",
        "    \"\"\"Displays the parsed itinerary data in a clear and organized format.\"\"\"\n",
        "    print(\"\\n--- Your Personalized Travel Itinerary ---\")\n",
        "\n",
        "    for daily_plan in itinerary_data.get(\"daily_plans\", []):\n",
        "        print(f\"\\nDay {daily_plan.get('day', 'N/A')}:\")\n",
        "        print(\"  Activities:\")\n",
        "        if daily_plan.get(\"activities\"):\n",
        "            for activity in daily_plan[\"activities\"]:\n",
        "                print(f\"    - {activity}\")\n",
        "        else:\n",
        "            print(\"    No activities planned for this day.\")\n",
        "\n",
        "        print(\"  Transportation:\")\n",
        "        if daily_plan.get(\"transportation\"):\n",
        "            for transport in daily_plan[\"transportation\"]:\n",
        "                print(f\"    - {transport}\")\n",
        "        else:\n",
        "            print(\"    No transportation details for this day.\")\n",
        "\n",
        "    print(f\"\\nTotal Estimated Budget: {itinerary_data.get('total_budget', 'Not specified')}\")\n",
        "    print(\"\\n-----------------------------------------\")"
      ],
      "execution_count": null,
      "outputs": []
    },
    {
      "cell_type": "markdown",
      "metadata": {
        "id": "da3a3d9f"
      },
      "source": [
        "## Refine and iterate\n",
        "\n",
        "### Subtask:\n",
        "Based on the previous steps and the overall goal of creating a user-friendly AI travel planner, refine the prompts, data retrieval, and output formatting. This is a continuous process based on testing and feedback.\n"
      ]
    },
    {
      "cell_type": "markdown",
      "metadata": {
        "id": "a3a626b9"
      },
      "source": [
        "**Reasoning**:\n",
        "Refine the existing functions based on the subtask instructions, focusing on error handling, robust parsing, input validation, and output display improvements.\n",
        "\n"
      ]
    },
    {
      "cell_type": "code",
      "metadata": {
        "id": "896c475f"
      },
      "source": [
        "import datetime\n",
        "import re # Import the re module\n",
        "\n",
        "def get_distance_and_duration(origin, destination):\n",
        "    \"\"\"Gets the distance and duration between two locations using Google Maps API.\"\"\"\n",
        "    try:\n",
        "        matrix = gmaps.distance_matrix(origin, destination, mode=\"driving\")\n",
        "        if matrix and matrix.get('status') == 'OK' and matrix['rows'][0]['elements'][0].get('status') == 'OK':\n",
        "            element = matrix['rows'][0]['elements'][0]\n",
        "            distance = element['distance']['text']\n",
        "            duration = element['duration']['text']\n",
        "            return distance, duration\n",
        "        else:\n",
        "            print(\"Warning: Could not get distance and duration for\", origin, \"to\", destination)\n",
        "            return \"N/A\", \"N/A\"\n",
        "    except Exception as e:\n",
        "        print(f\"Error getting distance and duration for {origin} to {destination}: {e}\")\n",
        "        return \"Error\", \"Error\"\n",
        "\n",
        "# The other get_* functions from the previous step are assumed to be defined\n",
        "\n",
        "def generate_itinerary(origin, destination, start_date, end_date, interests, budget, real_time_data):\n",
        "    \"\"\"Generates a travel itinerary using the Gemini API.\"\"\"\n",
        "    prompt = itinerary_prompt_template.format(\n",
        "        origin=origin,\n",
        "        destination=destination,\n",
        "        start_date=start_date,\n",
        "        end_date=end_date,\n",
        "        interests=interests,\n",
        "        budget=budget,\n",
        "        real_time_data=real_time_data if real_time_data else \"No real-time data available.\" # Handle potentially empty real_time_data\n",
        "    )\n",
        "    model = genai.GenerativeModel('models/gemini-pro-latest')\n",
        "    try:\n",
        "        response = model.generate_content(prompt)\n",
        "        # Add a check for empty or invalid response\n",
        "        if response and response.text:\n",
        "            return response.text\n",
        "        else:\n",
        "            print(\"Warning: Gemini API returned an empty or invalid response.\")\n",
        "            return \"Could not generate itinerary. Please try again with different inputs.\"\n",
        "    except Exception as e:\n",
        "        print(f\"Error generating itinerary with Gemini API: {e}\")\n",
        "        return \"An error occurred while generating the itinerary. Please try again later.\"\n",
        "\n",
        "\n",
        "def parse_itinerary(raw_itinerary_text):\n",
        "    \"\"\"Parses the raw AI-generated itinerary text into a structured format.\"\"\"\n",
        "    itinerary_data = {}\n",
        "    daily_plans = []\n",
        "    total_budget = \"Not specified\"\n",
        "\n",
        "    # Check if the raw text is an error message\n",
        "    if \"Could not generate itinerary\" in raw_itinerary_text or \"An error occurred\" in raw_itinerary_text:\n",
        "        return {\"daily_plans\": [], \"total_budget\": raw_itinerary_text}\n",
        "\n",
        "    # Split the text into potential daily sections using a more flexible pattern\n",
        "    # This pattern looks for \"Day \" followed by a number, or a line that starts with a date format\n",
        "    days = re.split(r'\\n*(?:Day \\d+:?|(?:\\w+, )?\\w+ \\d+, \\d{4}:?)', raw_itinerary_text)\n",
        "\n",
        "\n",
        "    for day in days:\n",
        "        day = day.strip()\n",
        "        if not day:\n",
        "            continue\n",
        "\n",
        "        # Extract day number or date\n",
        "        day_match = re.search(r'Day (\\d+):?', day)\n",
        "        date_match = re.search(r'((?:\\w+, )?\\w+ \\d+, \\d{4}):?', day)\n",
        "\n",
        "        day_identifier = \"N/A\"\n",
        "        if day_match:\n",
        "            day_identifier = f\"Day {day_match.group(1)}\"\n",
        "        elif date_match:\n",
        "            day_identifier = date_match.group(1)\n",
        "\n",
        "\n",
        "        daily_plan = {\n",
        "            \"day\": day_identifier,\n",
        "            \"activities\": [],\n",
        "            \"transportation\": []\n",
        "        }\n",
        "\n",
        "        # Extract activities and transportation\n",
        "        lines = day.split('\\n')\n",
        "        current_section = None\n",
        "        for line in lines:\n",
        "            line = line.strip()\n",
        "            if not line:\n",
        "                continue\n",
        "\n",
        "            if \"Activities:\" in line:\n",
        "                current_section = \"activities\"\n",
        "                continue\n",
        "            elif \"Transportation:\" in line:\n",
        "                current_section = \"transportation\"\n",
        "                continue\n",
        "            elif \"Total Estimated Budget:\" in line:\n",
        "                total_budget = line.replace(\"Total Estimated Budget:\", \"\").strip()\n",
        "                current_section = None # Stop processing lines for daily plan once total budget is found\n",
        "                continue\n",
        "            elif line.startswith(\"Day \") or re.match(r'(?:\\w+, )?\\w+ \\d+, \\d{4}', line): # Handle cases where splitting might not have worked perfectly or line is a date\n",
        "                 continue\n",
        "\n",
        "\n",
        "            if current_section == \"activities\":\n",
        "                 # More flexible parsing for activities\n",
        "                 if line.startswith(\"- \") or line.startswith(\"* \"):\n",
        "                    daily_plan[\"activities\"].append(line[2:].strip())\n",
        "                 else:\n",
        "                    daily_plan[\"activities\"].append(line)\n",
        "\n",
        "            elif current_section == \"transportation\":\n",
        "                 # More flexible parsing for transportation\n",
        "                 if line.startswith(\"- \") or line.startswith(\"* \"):\n",
        "                     daily_plan[\"transportation\"].append(line[2:].strip())\n",
        "                 else:\n",
        "                    daily_plan[\"transportation\"].append(line)\n",
        "\n",
        "\n",
        "        if daily_plan[\"activities\"] or daily_plan[\"transportation\"]:\n",
        "            daily_plans.append(daily_plan)\n",
        "        # Handle the case where total budget might be at the very end without a \"Day\" marker\n",
        "        elif \"Total Estimated Budget:\" in day and total_budget == \"Not specified\":\n",
        "             total_budget = day.replace(\"Total Estimated Budget:\", \"\").strip()\n",
        "\n",
        "\n",
        "    itinerary_data[\"daily_plans\"] = daily_plans\n",
        "    itinerary_data[\"total_budget\"] = total_budget\n",
        "\n",
        "    return itinerary_data\n",
        "\n",
        "def display_itinerary(itinerary_data):\n",
        "    \"\"\"Displays the parsed itinerary data in a clear and organized format.\"\"\"\n",
        "    print(\"\\n--- Your Personalized Travel Itinerary ---\")\n",
        "\n",
        "    # Check if the itinerary data contains an error message instead of plans\n",
        "    if \"Could not generate itinerary\" in itinerary_data.get(\"total_budget\", \"\") or \"An error occurred\" in itinerary_data.get(\"total_budget\", \"\"):\n",
        "        print(itinerary_data[\"total_budget\"])\n",
        "        print(\"\\n-----------------------------------------\")\n",
        "        return\n",
        "\n",
        "\n",
        "    if not itinerary_data.get(\"daily_plans\"):\n",
        "        print(\"No daily plans were generated for this itinerary.\")\n",
        "    else:\n",
        "        for daily_plan in itinerary_data[\"daily_plans\"]:\n",
        "            print(f\"\\n{daily_plan.get('day', 'N/A')}:\") # Display Day or Date\n",
        "            print(\"  Activities:\")\n",
        "            if daily_plan.get(\"activities\"):\n",
        "                for i, activity in enumerate(daily_plan[\"activities\"]):\n",
        "                    print(f\"    {i+1}. {activity}\")\n",
        "            else:\n",
        "                print(\"    No activities planned for this day.\")\n",
        "\n",
        "            print(\"  Transportation:\")\n",
        "            if daily_plan.get(\"transportation\"):\n",
        "                for i, transport in enumerate(daily_plan[\"transportation\"]):\n",
        "                    print(f\"    {i+1}. {transport}\")\n",
        "            else:\n",
        "                print(\"    No transportation details for this day.\")\n",
        "\n",
        "    print(f\"\\nTotal Estimated Budget: {itinerary_data.get('total_budget', 'Not specified')}\")\n",
        "    print(\"\\n-----------------------------------------\")\n",
        "\n",
        "def validate_inputs(origin, destination, start_date_str, end_date_str, interests, budget):\n",
        "    \"\"\"Validates user inputs.\"\"\"\n",
        "    errors = []\n",
        "\n",
        "    if not origin:\n",
        "        errors.append(\"Origin cannot be empty.\")\n",
        "    if not destination:\n",
        "        errors.append(\"Destination cannot be empty.\")\n",
        "\n",
        "    try:\n",
        "        start_date = datetime.datetime.strptime(start_date_str, '%Y-%m-%d')\n",
        "    except ValueError:\n",
        "        errors.append(\"Start Date must be in YYYY-MM-DD format.\")\n",
        "        start_date = None # Set to None to avoid errors in subsequent checks\n",
        "\n",
        "    try:\n",
        "        end_date = datetime.datetime.strptime(end_date_str, '%Y-%m-%d') # Corrected format string\n",
        "    except ValueError:\n",
        "        errors.append(\"End Date must be in YYYY-MM-DD format.\")\n",
        "        end_date = None # Set to None\n",
        "\n",
        "    if start_date and end_date and start_date > end_date:\n",
        "        errors.append(\"Start Date cannot be after End Date.\")\n",
        "\n",
        "    if not interests:\n",
        "        errors.append(\"Interests cannot be empty.\")\n",
        "\n",
        "    if not budget:\n",
        "        errors.append(\"Budget cannot be empty.\")\n",
        "\n",
        "    return errors"
      ],
      "execution_count": 21,
      "outputs": []
    },
    {
      "cell_type": "markdown",
      "metadata": {
        "id": "ef507aac"
      },
      "source": [
        "## Summary:\n",
        "\n",
        "### Data Analysis Key Findings\n",
        "\n",
        "*   The required user inputs for the AI travel planner were identified as Origin, Destination, Start Date, End Date, Interests, and Budget.\n",
        "*   Functions were successfully implemented to retrieve real-time data using the Google Maps API, including distance and duration between locations, place details, and nearby places.\n",
        "*   A detailed prompt template for the Gemini model was created to generate a personalized, budget-friendly itinerary based on user inputs and real-time data.\n",
        "*   A function was developed to utilize the Gemini API with the crafted prompt to generate the travel itinerary.\n",
        "*   A robust parsing function was created to extract daily plans, transportation details, and the total budget from the raw AI-generated text.\n",
        "*   A function was implemented to display the parsed itinerary data in a clear and organized format.\n",
        "*   Refinements were made to the data retrieval, itinerary generation, parsing, and display functions to improve error handling, robustness, and user-friendliness. Input validation was also added.\n",
        "\n",
        "### Insights or Next Steps\n",
        "\n",
        "*   The current implementation relies on the Gemini API for itinerary generation. Exploring alternative or supplementary methods, such as rule-based systems for basic itinerary structuring or incorporating local event data, could enhance the planner's capabilities.\n",
        "*   User feedback and testing are crucial for further refinement. Implementing a simple feedback mechanism could provide valuable insights into the generated itineraries and areas for improvement in prompt design, parsing, and output presentation.\n"
      ]
    },
    {
      "cell_type": "markdown",
      "metadata": {
        "id": "12dcd207"
      },
      "source": [
        "# Task\n",
        "Create an HTML interface for the itinerary generator, integrate it with the Python code, and deploy the project to GitHub."
      ]
    },
    {
      "cell_type": "markdown",
      "metadata": {
        "id": "845f38e8"
      },
      "source": [
        "## Create a web interface\n",
        "\n",
        "### Subtask:\n",
        "Design an HTML page to take user inputs and display the generated itinerary. This will likely involve HTML forms for input and sections to display the output.\n"
      ]
    },
    {
      "cell_type": "markdown",
      "metadata": {
        "id": "4ec5b296"
      },
      "source": [
        "**Reasoning**:\n",
        "Create a basic HTML structure with input fields for user inputs and a div for displaying the itinerary.\n",
        "\n"
      ]
    },
    {
      "cell_type": "code",
      "metadata": {
        "colab": {
          "base_uri": "https://localhost:8080/",
          "height": 105
        },
        "id": "e1205333",
        "outputId": "982339bc-073e-434b-b1d6-1d61b649854e"
      },
      "source": [
        "<!DOCTYPE html>\n",
        "<html>\n",
        "<head>\n",
        "    <title>AI Travel Planner</title>\n",
        "    <style>\n",
        "        body {\n",
        "            font-family: sans-serif;\n",
        "            margin: 20px;\n",
        "        }\n",
        "        form {\n",
        "            margin-bottom: 20px;\n",
        "            padding: 20px;\n",
        "            border: 1px solid #ccc;\n",
        "            border-radius: 5px;\n",
        "        }\n",
        "        label {\n",
        "            display: block;\n",
        "            margin-bottom: 5px;\n",
        "            font-weight: bold;\n",
        "        }\n",
        "        input[type=\"text\"],\n",
        "        input[type=\"date\"],\n",
        "        select {\n",
        "            width: 100%;\n",
        "            padding: 8px;\n",
        "            margin-bottom: 10px;\n",
        "            border: 1px solid #ccc;\n",
        "            border-radius: 4px;\n",
        "        }\n",
        "        button {\n",
        "            background-color: #4CAF50;\n",
        "            color: white;\n",
        "            padding: 10px 15px;\n",
        "            border: none;\n",
        "            border-radius: 4px;\n",
        "            cursor: pointer;\n",
        "        }\n",
        "        button:hover {\n",
        "            background-color: #45a049;\n",
        "        }\n",
        "        #itinerary-output {\n",
        "            margin-top: 20px;\n",
        "            padding: 20px;\n",
        "            border: 1px solid #ccc;\n",
        "            border-radius: 5px;\n",
        "            white-space: pre-wrap; /* Preserve formatting from the AI output */\n",
        "        }\n",
        "    </style>\n",
        "</head>\n",
        "<body>\n",
        "    <h1>AI Travel Planner</h1>\n",
        "\n",
        "    <form id=\"travel-form\">\n",
        "        <label for=\"origin\">Origin:</label>\n",
        "        <input type=\"text\" id=\"origin\" name=\"origin\" required>\n",
        "\n",
        "        <label for=\"destination\">Destination:</label>\n",
        "        <input type=\"text\" id=\"destination\" name=\"destination\" required>\n",
        "\n",
        "        <label for=\"start-date\">Start Date:</label>\n",
        "        <input type=\"date\" id=\"start-date\" name=\"start-date\" required>\n",
        "\n",
        "        <label for=\"end-date\">End Date:</label>\n",
        "        <input type=\"date\" id=\"end-date\" name=\"end-date\" required>\n",
        "\n",
        "        <label for=\"interests\">Interests (comma-separated):</label>\n",
        "        <input type=\"text\" id=\"interests\" name=\"interests\" placeholder=\"e.g., historical sites, nature, food\" required>\n",
        "\n",
        "        <label for=\"budget\">Budget:</label>\n",
        "        <input type=\"text\" id=\"budget\" name=\"budget\" placeholder=\"e.g., low, medium, high, or a specific amount\" required>\n",
        "\n",
        "        <button type=\"submit\">Generate Itinerary</button>\n",
        "    </form>\n",
        "\n",
        "    <div id=\"itinerary-output\">\n",
        "        <!-- Itinerary will be displayed here -->\n",
        "    </div>\n",
        "\n",
        "    <script>\n",
        "        // JavaScript will be added here later to handle form submission and display\n",
        "    </script>\n",
        "</body>\n",
        "</html>"
      ],
      "execution_count": 23,
      "outputs": [
        {
          "output_type": "error",
          "ename": "SyntaxError",
          "evalue": "invalid decimal literal (ipython-input-3565124774.py, line 8)",
          "traceback": [
            "\u001b[0;36m  File \u001b[0;32m\"/tmp/ipython-input-3565124774.py\"\u001b[0;36m, line \u001b[0;32m8\u001b[0m\n\u001b[0;31m    margin: 20px;\u001b[0m\n\u001b[0m             ^\u001b[0m\n\u001b[0;31mSyntaxError\u001b[0m\u001b[0;31m:\u001b[0m invalid decimal literal\n"
          ]
        }
      ]
    },
    {
      "cell_type": "markdown",
      "metadata": {
        "id": "d973dd1c"
      },
      "source": [
        "**Reasoning**:\n",
        "The previous code block failed because it contained HTML code within a Python code block. I need to generate the HTML code as a string and then write it to a file.\n",
        "\n"
      ]
    },
    {
      "cell_type": "code",
      "metadata": {
        "id": "Ih0a0KEgHLQ7"
      },
      "source": [
        "html_content = \"\"\"\n",
        "<!DOCTYPE html>\n",
        "<html>\n",
        "<head>\n",
        "    <title>AI Travel Planner</title>\n",
        "    <style>\n",
        "        body {\n",
        "            font-family: sans-serif;\n",
        "            margin: 20px;\n",
        "        }\n",
        "        form {\n",
        "            margin-bottom: 20px;\n",
        "            padding: 20px;\n",
        "            border: 1px solid #ccc;\n",
        "            border-radius: 5px;\n",
        "        }\n",
        "        label {\n",
        "            display: block;\n",
        "            margin-bottom: 5px;\n",
        "            font-weight: bold;\n",
        "        }\n",
        "        input[type=\"text\"],\n",
        "        input[type=\"date\"],\n",
        "        select {\n",
        "            width: 100%;\n",
        "            padding: 8px;\n",
        "            margin-bottom: 10px;\n",
        "            border: 1px solid #ccc;\n",
        "            border-radius: 4px;\n",
        "        }\n",
        "        button {\n",
        "            background-color: #4CAF50;\n",
        "            color: white;\n",
        "            padding: 10px 15px;\n",
        "            border: none;\n",
        "            border-radius: 4px;\n",
        "            cursor: pointer;\n",
        "        }\n",
        "        button:hover {\n",
        "            background-color: #45a049;\n",
        "        }\n",
        "        #itinerary-output {\n",
        "            margin-top: 20px;\n",
        "            padding: 20px;\n",
        "            border: 1px solid #ccc;\n",
        "            border-radius: 5px;\n",
        "            white-space: pre-wrap; /* Preserve formatting from the AI output */\n",
        "        }\n",
        "    </style>\n",
        "</head>\n",
        "<body>\n",
        "    <h1>AI Travel Planner</h1>\n",
        "\n",
        "    <form id=\"travel-form\">\n",
        "        <label for=\"origin\">Origin:</label>\n",
        "        <input type=\"text\" id=\"origin\" name=\"origin\" required>\n",
        "\n",
        "        <label for=\"destination\">Destination:</label>\n",
        "        <input type=\"text\" id=\"destination\" name=\"destination\" required>\n",
        "\n",
        "        <label for=\"start-date\">Start Date:</label>\n",
        "        <input type=\"date\" id=\"start-date\" name=\"start-date\" required>\n",
        "\n",
        "        <label for=\"end-date\">End Date:</label>\n",
        "        <input type=\"date\" id=\"end-date\" name=\"end-date\" required>\n",
        "\n",
        "        <label for=\"interests\">Interests (comma-separated):</label>\n",
        "        <input type=\"text\" id=\"interests\" name=\"interests\" placeholder=\"e.g., historical sites, nature, food\" required>\n",
        "\n",
        "        <label for=\"budget\">Budget:</label>\n",
        "        <input type=\"text\" id=\"budget\" name=\"budget\" placeholder=\"e.g., low, medium, high, or a specific amount\" required>\n",
        "\n",
        "        <button type=\"submit\">Generate Itinerary</button>\n",
        "    </form>\n",
        "\n",
        "    <div id=\"itinerary-output\">\n",
        "        <!-- Itinerary will be displayed here -->\n",
        "    </div>\n",
        "\n",
        "    <script>\n",
        "        // JavaScript will be added here later to handle form submission and display\n",
        "    </script>\n",
        "</body>\n",
        "</html>\n",
        "\"\"\"\n",
        "\n",
        "with open('index.html', 'w') as f:\n",
        "    f.write(html_content)"
      ],
      "execution_count": 24,
      "outputs": []
    },
    {
      "cell_type": "markdown",
      "metadata": {
        "id": "b6c9d6cf"
      },
      "source": [
        "## Integrate python with web interface\n",
        "\n",
        "### Subtask:\n",
        "This is the most complex step. You'll need a way for the HTML page to send user inputs to your Python code running on a server and for the Python code to send the generated itinerary back to the HTML page. A simple approach for a Colab environment might involve using something like Flask or FastAPI, or for a static site, you might need to explore serverless functions. Given the Colab environment, we'll likely focus on demonstrating the HTML structure and explaining the integration concepts, as a full web application deployment from Colab is beyond the scope of a single notebook execution.\n"
      ]
    },
    {
      "cell_type": "markdown",
      "metadata": {
        "id": "4f53f7a5"
      },
      "source": [
        "**Reasoning**:\n",
        "Add a script tag to `index.html` and include JavaScript code to handle form submission, collect input values, and simulate sending them to a backend.\n",
        "\n"
      ]
    },
    {
      "cell_type": "code",
      "metadata": {
        "id": "0b18c499"
      },
      "source": [
        "html_content = \"\"\"\n",
        "<!DOCTYPE html>\n",
        "<html>\n",
        "<head>\n",
        "    <title>AI Travel Planner</title>\n",
        "    <style>\n",
        "        body {\n",
        "            font-family: sans-serif;\n",
        "            margin: 20px;\n",
        "        }\n",
        "        form {\n",
        "            margin-bottom: 20px;\n",
        "            padding: 20px;\n",
        "            border: 1px solid #ccc;\n",
        "            border-radius: 5px;\n",
        "        }\n",
        "        label {\n",
        "            display: block;\n",
        "            margin-bottom: 5px;\n",
        "            font-weight: bold;\n",
        "        }\n",
        "        input[type=\"text\"],\n",
        "        input[type=\"date\"],\n",
        "        select {\n",
        "            width: 100%;\n",
        "            padding: 8px;\n",
        "            margin-bottom: 10px;\n",
        "            border: 1px solid #ccc;\n",
        "            border-radius: 4px;\n",
        "        }\n",
        "        button {\n",
        "            background-color: #4CAF50;\n",
        "            color: white;\n",
        "            padding: 10px 15px;\n",
        "            border: none;\n",
        "            border-radius: 4px;\n",
        "            cursor: pointer;\n",
        "        }\n",
        "        button:hover {\n",
        "            background-color: #45a049;\n",
        "        }\n",
        "        #itinerary-output {\n",
        "            margin-top: 20px;\n",
        "            padding: 20px;\n",
        "            border: 1px solid #ccc;\n",
        "            border-radius: 5px;\n",
        "            white-space: pre-wrap; /* Preserve formatting from the AI output */\n",
        "        }\n",
        "    </style>\n",
        "</head>\n",
        "<body>\n",
        "    <h1>AI Travel Planner</h1>\n",
        "\n",
        "    <form id=\"travel-form\">\n",
        "        <label for=\"origin\">Origin:</label>\n",
        "        <input type=\"text\" id=\"origin\" name=\"origin\" required>\n",
        "\n",
        "        <label for=\"destination\">Destination:</label>\n",
        "        <input type=\"text\" id=\"destination\" name=\"destination\" required>\n",
        "\n",
        "        <label for=\"start-date\">Start Date:</label>\n",
        "        <input type=\"date\" id=\"start-date\" name=\"start-date\" required>\n",
        "\n",
        "        <label for=\"end-date\">End Date:</label>\n",
        "        <input type=\"date\" id=\"end-date\" name=\"end-date\" required>\n",
        "\n",
        "        <label for=\"interests\">Interests (comma-separated):</label>\n",
        "        <input type=\"text\" id=\"interests\" name=\"interests\" placeholder=\"e.g., historical sites, nature, food\" required>\n",
        "\n",
        "        <label for=\"budget\">Budget:</label>\n",
        "        <input type=\"text\" id=\"budget\" name=\"budget\" placeholder=\"e.g., low, medium, high, or a specific amount\" required>\n",
        "\n",
        "        <button type=\"submit\">Generate Itinerary</button>\n",
        "    </form>\n",
        "\n",
        "    <div id=\"itinerary-output\">\n",
        "        <!-- Itinerary will be displayed here -->\n",
        "    </div>\n",
        "\n",
        "    <script>\n",
        "        const travelForm = document.getElementById('travel-form');\n",
        "        const itineraryOutput = document.getElementById('itinerary-output');\n",
        "\n",
        "        travelForm.addEventListener('submit', async (event) => {\n",
        "            event.preventDefault(); // Prevent default form submission\n",
        "\n",
        "            const origin = document.getElementById('origin').value;\n",
        "            const destination = document.getElementById('destination').value;\n",
        "            const startDate = document.getElementById('start-date').value;\n",
        "            const endDate = document.getElementById('end-date').value;\n",
        "            const interests = document.getElementById('interests').value;\n",
        "            const budget = document.getElementById('budget').value;\n",
        "\n",
        "            // For demonstration in Colab, we'll simulate sending data\n",
        "            // In a real web app, you would use fetch() to send this data to your backend\n",
        "            const userData = {\n",
        "                origin: origin,\n",
        "                destination: destination,\n",
        "                start_date: startDate,\n",
        "                end_date: endDate,\n",
        "                interests: interests,\n",
        "                budget: budget\n",
        "            };\n",
        "\n",
        "            console.log(\"Simulating sending data to backend:\", userData);\n",
        "\n",
        "            // Simulate receiving a response from the backend\n",
        "            // In a real app, this would be the response from your fetch() call\n",
        "            const simulatedResponse = {\n",
        "                daily_plans: [\n",
        "                    {\n",
        "                        day: \"Day 1\",\n",
        "                        activities: [\"Simulated activity 1\", \"Simulated activity 2\"],\n",
        "                        transportation: [\"Simulated transportation 1\"]\n",
        "                    },\n",
        "                    {\n",
        "                        day: \"Day 2\",\n",
        "                        activities: [\"Simulated activity 3\"],\n",
        "                        transportation: [\"Simulated transportation 2\", \"Simulated transportation 3\"]\n",
        "                    }\n",
        "                ],\n",
        "                total_budget: \"Simulated Total Budget: $500\"\n",
        "            };\n",
        "\n",
        "            console.log(\"Simulating receiving response:\", simulatedResponse);\n",
        "\n",
        "            // Update the itinerary output div with the simulated response\n",
        "            displayItinerary(simulatedResponse);\n",
        "        });\n",
        "\n",
        "        function displayItinerary(itineraryData) {\n",
        "            let outputHtml = \"<h2>Generated Itinerary</h2>\";\n",
        "\n",
        "            if (itineraryData.daily_plans && itineraryData.daily_plans.length > 0) {\n",
        "                itineraryData.daily_plans.forEach(dayPlan => {\n",
        "                    outputHtml += `<h3>${dayPlan.day}:</h3>`;\n",
        "                    outputHtml += \"<h4>Activities:</h4><ul>\";\n",
        "                    if (dayPlan.activities && dayPlan.activities.length > 0) {\n",
        "                        dayPlan.activities.forEach(activity => {\n",
        "                            outputHtml += `<li>${activity}</li>`;\n",
        "                        });\n",
        "                    } else {\n",
        "                        outputHtml += \"<li>No activities planned.</li>\";\n",
        "                    }\n",
        "                    outputHtml += \"</ul>\";\n",
        "\n",
        "                    outputHtml += \"<h4>Transportation:</h4><ul>\";\n",
        "                     if (dayPlan.transportation && dayPlan.transportation.length > 0) {\n",
        "                        dayPlan.transportation.forEach(transport => {\n",
        "                            outputHtml += `<li>${transport}</li>`;\n",
        "                        });\n",
        "                    } else {\n",
        "                        outputHtml += \"<li>No transportation details.</li>\";\n",
        "                    }\n",
        "                    outputHtml += \"</ul>\";\n",
        "                });\n",
        "            } else {\n",
        "                outputHtml += \"<p>No daily plans were generated for this itinerary.</p>\";\n",
        "            }\n",
        "\n",
        "            outputHtml += `<h4>Total Estimated Budget:</h4><p>${itineraryData.total_budget}</p>`;\n",
        "\n",
        "            itineraryOutput.innerHTML = outputHtml;\n",
        "        }\n",
        "\n",
        "    </script>\n",
        "</body>\n",
        "</html>\n",
        "\"\"\"\n",
        "\n",
        "with open('index.html', 'w') as f:\n",
        "    f.write(html_content)"
      ],
      "execution_count": 25,
      "outputs": []
    },
    {
      "cell_type": "markdown",
      "metadata": {
        "id": "af6331e2"
      },
      "source": [
        "## Refine itinerary display in html\n",
        "\n",
        "### Subtask:\n",
        "Adapt the `display_itinerary` logic to format the output nicely within the HTML structure.\n"
      ]
    },
    {
      "cell_type": "markdown",
      "metadata": {
        "id": "456eba00"
      },
      "source": [
        "**Reasoning**:\n",
        "Adapt the `display_itinerary` logic in the HTML file to format the output nicely, ensuring the parsing logic aligns with the Python output structure.\n",
        "\n"
      ]
    },
    {
      "cell_type": "code",
      "metadata": {
        "id": "b17548e6"
      },
      "source": [
        "html_content = \"\"\"\n",
        "<!DOCTYPE html>\n",
        "<html>\n",
        "<head>\n",
        "    <title>AI Travel Planner</title>\n",
        "    <style>\n",
        "        body {\n",
        "            font-family: sans-serif;\n",
        "            margin: 20px;\n",
        "            line-height: 1.6;\n",
        "        }\n",
        "        form {\n",
        "            margin-bottom: 30px;\n",
        "            padding: 25px;\n",
        "            border: 1px solid #ddd;\n",
        "            border-radius: 8px;\n",
        "            background-color: #f9f9f9;\n",
        "        }\n",
        "        label {\n",
        "            display: block;\n",
        "            margin-bottom: 8px;\n",
        "            font-weight: bold;\n",
        "            color: #333;\n",
        "        }\n",
        "        input[type=\"text\"],\n",
        "        input[type=\"date\"],\n",
        "        select {\n",
        "            width: calc(100% - 22px); /* Adjust for padding and border */\n",
        "            padding: 10px;\n",
        "            margin-bottom: 15px;\n",
        "            border: 1px solid #ccc;\n",
        "            border-radius: 4px;\n",
        "            font-size: 1rem;\n",
        "        }\n",
        "        button {\n",
        "            background-color: #007bff;\n",
        "            color: white;\n",
        "            padding: 12px 20px;\n",
        "            border: none;\n",
        "            border-radius: 5px;\n",
        "            cursor: pointer;\n",
        "            font-size: 1.1rem;\n",
        "            transition: background-color 0.3s ease;\n",
        "        }\n",
        "        button:hover {\n",
        "            background-color: #0056b3;\n",
        "        }\n",
        "        #itinerary-output {\n",
        "            margin-top: 30px;\n",
        "            padding: 25px;\n",
        "            border: 1px solid #ddd;\n",
        "            border-radius: 8px;\n",
        "            background-color: #fff;\n",
        "        }\n",
        "        #itinerary-output h2 {\n",
        "            color: #333;\n",
        "            border-bottom: 2px solid #007bff;\n",
        "            padding-bottom: 10px;\n",
        "            margin-bottom: 20px;\n",
        "        }\n",
        "        #itinerary-output h3 {\n",
        "            color: #555;\n",
        "            margin-top: 20px;\n",
        "            margin-bottom: 10px;\n",
        "        }\n",
        "         #itinerary-output h4 {\n",
        "            color: #777;\n",
        "            margin-top: 15px;\n",
        "            margin-bottom: 8px;\n",
        "        }\n",
        "        #itinerary-output ul {\n",
        "            list-style: none;\n",
        "            padding: 0;\n",
        "            margin-bottom: 15px;\n",
        "        }\n",
        "        #itinerary-output li {\n",
        "            background-color: #e9ecef;\n",
        "            padding: 10px;\n",
        "            margin-bottom: 8px;\n",
        "            border-radius: 4px;\n",
        "            border-left: 4px solid #007bff;\n",
        "        }\n",
        "        #itinerary-output p {\n",
        "            font-size: 1.1rem;\n",
        "            font-weight: bold;\n",
        "            color: #333;\n",
        "        }\n",
        "    </style>\n",
        "</head>\n",
        "<body>\n",
        "    <h1>AI Travel Planner</h1>\n",
        "\n",
        "    <form id=\"travel-form\">\n",
        "        <label for=\"origin\">Origin:</label>\n",
        "        <input type=\"text\" id=\"origin\" name=\"origin\" required>\n",
        "\n",
        "        <label for=\"destination\">Destination:</label>\n",
        "        <input type=\"text\" id=\"destination\" name=\"destination\" required>\n",
        "\n",
        "        <label for=\"start-date\">Start Date:</label>\n",
        "        <input type=\"date\" id=\"start-date\" name=\"start-date\" required>\n",
        "\n",
        "        <label for=\"end-date\">End Date:</label>\n",
        "        <input type=\"date\" id=\"end-date\" name=\"end-date\" required>\n",
        "\n",
        "        <label for=\"interests\">Interests (comma-separated):</label>\n",
        "        <input type=\"text\" id=\"interests\" name=\"interests\" placeholder=\"e.g., historical sites, nature, food\" required>\n",
        "\n",
        "        <label for=\"budget\">Budget:</label>\n",
        "        <input type=\"text\" id=\"budget\" name=\"budget\" placeholder=\"e.g., low, medium, high, or a specific amount\" required>\n",
        "\n",
        "        <button type=\"submit\">Generate Itinerary</button>\n",
        "    </form>\n",
        "\n",
        "    <div id=\"itinerary-output\">\n",
        "        <!-- Itinerary will be displayed here -->\n",
        "    </div>\n",
        "\n",
        "    <script>\n",
        "        const travelForm = document.getElementById('travel-form');\n",
        "        const itineraryOutput = document.getElementById('itinerary-output');\n",
        "\n",
        "        travelForm.addEventListener('submit', async (event) => {\n",
        "            event.preventDefault(); // Prevent default form submission\n",
        "\n",
        "            const origin = document.getElementById('origin').value;\n",
        "            const destination = document.getElementById('destination').value;\n",
        "            const startDate = document.getElementById('start-date').value;\n",
        "            const endDate = document.getElementById('end-date').value;\n",
        "            const interests = document.getElementById('interests').value;\n",
        "            const budget = document.getElementById('budget').value;\n",
        "\n",
        "            // For demonstration in Colab, we'll simulate sending data\n",
        "            // In a real web app, you would use fetch() to send this data to your backend\n",
        "            const userData = {\n",
        "                origin: origin,\n",
        "                destination: destination,\n",
        "                start_date: startDate,\n",
        "                end_date: endDate,\n",
        "                interests: interests,\n",
        "                budget: budget\n",
        "            };\n",
        "\n",
        "            console.log(\"Simulating sending data to backend:\", userData);\n",
        "\n",
        "            // Simulate receiving a response from the backend that matches the Python parse_itinerary output structure\n",
        "            const simulatedResponse = {\n",
        "                daily_plans: [\n",
        "                    {\n",
        "                        day: \"Day 1: Arrival in Goa\",\n",
        "                        activities: [\n",
        "                            \"Check into hotel in North Goa\",\n",
        "                            \"Relax at Calangute Beach\",\n",
        "                            \"Sunset at Baga Beach\"\n",
        "                        ],\n",
        "                        transportation: [\n",
        "                            \"Taxi from station to hotel (~₹1,200)\",\n",
        "                            \"Scooter rental (₹300-₹400/day)\",\n",
        "                            \"Scooter to beaches\"\n",
        "                        ]\n",
        "                    },\n",
        "                    {\n",
        "                        day: \"Day 2: Old Goa & Panjim\",\n",
        "                        activities: [\n",
        "                            \"Visit Basilica of Bom Jesus\",\n",
        "                            \"Explore Sé Cathedral\",\n",
        "                            \"Wander through Fontainhas (Latin Quarter)\",\n",
        "                            \"Sunset at Reis Magos Fort\"\n",
        "                        ],\n",
        "                        transportation: [\n",
        "                            \"Scooter to Old Goa (~45 mins)\",\n",
        "                            \"Scooter to Panjim (~15 mins)\",\n",
        "                            \"Scooter to Reis Magos Fort (~20 mins)\"\n",
        "                        ]\n",
        "                    }\n",
        "                    // Add more simulated days as needed\n",
        "                ],\n",
        "                total_budget: \"~₹13,000 per person (excluding train fare)\"\n",
        "            };\n",
        "\n",
        "            console.log(\"Simulating receiving response:\", simulatedResponse);\n",
        "\n",
        "            // Update the itinerary output div with the simulated response\n",
        "            displayItinerary(simulatedResponse);\n",
        "        });\n",
        "\n",
        "        function displayItinerary(itineraryData) {\n",
        "            let outputHtml = \"<h2>Generated Itinerary</h2>\";\n",
        "\n",
        "            if (itineraryData.daily_plans && itineraryData.daily_plans.length > 0) {\n",
        "                itineraryData.daily_plans.forEach(dayPlan => {\n",
        "                    outputHtml += `<h3>${dayPlan.day}:</h3>`;\n",
        "                    outputHtml += \"<h4>Activities:</h4><ul>\";\n",
        "                    if (dayPlan.activities && dayPlan.activities.length > 0) {\n",
        "                        dayPlan.activities.forEach(activity => {\n",
        "                            outputHtml += `<li>${activity}</li>`;\n",
        "                        });\n",
        "                    } else {\n",
        "                        outputHtml += \"<li>No activities planned.</li>\";\n",
        "                    }\n",
        "                    outputHtml += \"</ul>\";\n",
        "\n",
        "                    outputHtml += \"<h4>Transportation:</h4><ul>\";\n",
        "                     if (dayPlan.transportation && dayPlan.transportation.length > 0) {\n",
        "                        dayPlan.transportation.forEach(transport => {\n",
        "                            outputHtml += `<li>${transport}</li>`;\n",
        "                        });\n",
        "                    } else {\n",
        "                        outputHtml += \"<li>No transportation details.</li>\";\n",
        "                    }\n",
        "                    outputHtml += \"</ul>\";\n",
        "                });\n",
        "            } else {\n",
        "                outputHtml += \"<p>No daily plans were generated for this itinerary.</p>\";\n",
        "            }\n",
        "\n",
        "            outputHtml += `<h4>Total Estimated Budget:</h4><p>${itineraryData.total_budget}</p>`;\n",
        "\n",
        "            itineraryOutput.innerHTML = outputHtml;\n",
        "        }\n",
        "\n",
        "    </script>\n",
        "</body>\n",
        "</html>\n",
        "\"\"\"\n",
        "\n",
        "with open('index.html', 'w') as f:\n",
        "    f.write(html_content)"
      ],
      "execution_count": 26,
      "outputs": []
    },
    {
      "cell_type": "markdown",
      "metadata": {
        "id": "ad29ab02"
      },
      "source": [
        "## Prepare for deployment\n",
        "\n",
        "### Subtask:\n",
        "Organize your code and HTML files for deployment.\n"
      ]
    },
    {
      "cell_type": "markdown",
      "metadata": {
        "id": "e9ec6460"
      },
      "source": [
        "**Reasoning**:\n",
        "Create a new directory, move the HTML file, and create a Python file containing all the necessary functions and imports for deployment organization.\n",
        "\n"
      ]
    },
    {
      "cell_type": "code",
      "metadata": {
        "colab": {
          "base_uri": "https://localhost:8080/"
        },
        "id": "d466955d",
        "outputId": "fc413a97-3c04-4aae-c85f-273c5e553c23"
      },
      "source": [
        "import os\n",
        "import shutil\n",
        "\n",
        "# Create a new directory for the project\n",
        "project_dir = \"ai_travel_planner\"\n",
        "os.makedirs(project_dir, exist_ok=True)\n",
        "\n",
        "# Move the index.html file into the new directory\n",
        "if os.path.exists(\"index.html\"):\n",
        "    shutil.move(\"index.html\", os.path.join(project_dir, \"index.html\"))\n",
        "    print(f\"Moved index.html to {project_dir}/\")\n",
        "else:\n",
        "    print(\"index.html not found in the current directory.\")\n",
        "\n",
        "# Create a Python file with all the necessary functions and imports\n",
        "python_code = \"\"\"\n",
        "import os\n",
        "import shutil\n",
        "from google.colab import userdata\n",
        "import googlemaps\n",
        "import openai\n",
        "import google.generativeai as genai\n",
        "import datetime\n",
        "import re\n",
        "\n",
        "# --- API Key Configuration (Assuming keys are set in Colab Secrets or environment variables) ---\n",
        "# In a real deployment, you would use environment variables or a secure configuration method.\n",
        "GOOGLE_MAPS_KEY = os.environ.get('GOOGLE_MAPS_KEY', userdata.get('GOOGLE_MAPS_KEY'))\n",
        "GEMINI_KEY = os.environ.get('GOOGLE_API_KEY', userdata.get('GOOGLE_API_KEY'))\n",
        "\n",
        "gmaps = googlemaps.Client(key=GOOGLE_MAPS_KEY)\n",
        "genai.configure(api_key=GEMINI_KEY)\n",
        "\n",
        "# --- Prompt Template ---\n",
        "itinerary_prompt_template = '''\n",
        "You are an AI travel planner. Your task is to create a personalized, budget-friendly travel itinerary based on the user's inputs and provided data.\n",
        "\n",
        "User Inputs:\n",
        "Origin: {origin}\n",
        "Destination: {destination}\n",
        "Start Date: {start_date}\n",
        "End Date: {end_date}\n",
        "Interests: {interests}\n",
        "Budget: {budget}\n",
        "\n",
        "Real-time Data:\n",
        "{real_time_data}\n",
        "\n",
        "Instructions:\n",
        "1. Act as a knowledgeable and helpful travel planner for students.\n",
        "2. Generate a daily itinerary from the start date to the end date.\n",
        "3. For each day, suggest activities and attractions based on the user's interests and budget.\n",
        "4. Suggest cost-effective transportation options between locations, considering the provided real-time data (distances, travel times).\n",
        "5. Estimate the cost for each activity and transportation option where possible.\n",
        "6. Provide a total estimated budget for the entire trip.\n",
        "7. Present the itinerary in a clear, structured, and easy-to-read format, with a daily breakdown.\n",
        "8. Ensure the suggestions align with the user's specified budget (e.g., suggest free or low-cost activities for a low budget).\n",
        "'''\n",
        "\n",
        "# --- Google Maps API Functions ---\n",
        "def get_distance_and_duration(origin, destination):\n",
        "    \\\"\\\"\\\"Gets the distance and duration between two locations using Google Maps API.\\\"\\\"\\\"\n",
        "    try:\n",
        "        matrix = gmaps.distance_matrix(origin, destination, mode=\"driving\")\n",
        "        if matrix and matrix.get('status') == 'OK' and matrix['rows'][0]['elements'][0].get('status') == 'OK':\n",
        "            element = matrix['rows'][0]['elements'][0]\n",
        "            distance = element['distance']['text']\n",
        "            duration = element['duration']['text']\n",
        "            return distance, duration\n",
        "        else:\n",
        "            print(\"Warning: Could not get distance and duration for\", origin, \"to\", destination)\n",
        "            return \"N/A\", \"N/A\"\n",
        "    except Exception as e:\n",
        "        print(f\"Error getting distance and duration for {origin} to {destination}: {e}\")\n",
        "        return \"Error\", \"Error\"\n",
        "\n",
        "def get_place_details(place_id):\n",
        "    \\\"\\\"\\\"Gets details of a place using Google Maps API.\\\"\\\"\\\"\n",
        "    try:\n",
        "        place = gmaps.place(place_id)\n",
        "        if place['status'] == 'OK':\n",
        "            details = place['result']\n",
        "            name = details.get('name')\n",
        "            address = details.get('formatted_address')\n",
        "            rating = details.get('rating')\n",
        "            return name, address, rating\n",
        "        else:\n",
        "            return None, None, None\n",
        "    except Exception as e:\n",
        "        print(f\"Error getting place details: {e}\")\n",
        "        return None, None, None\n",
        "\n",
        "def get_nearby_places(location, radius, type):\n",
        "    \\\"\\\"\\\"Finds nearby places of a specific type using Google Maps API.\\\"\\\"\\\"\n",
        "    try:\n",
        "        places_result = gmaps.places(location=location, radius=radius, type=type)\n",
        "        if places_result['status'] == 'OK':\n",
        "            return places_result['results']\n",
        "        else:\n",
        "            return []\n",
        "    except Exception as e:\n",
        "        print(f\"Error getting nearby places: {e}\")\n",
        "        return []\n",
        "\n",
        "# --- Gemini API Function ---\n",
        "def generate_itinerary(origin, destination, start_date, end_date, interests, budget, real_time_data):\n",
        "    \\\"\\\"\\\"Generates a travel itinerary using the Gemini API.\\\"\\\"\\\"\n",
        "    prompt = itinerary_prompt_template.format(\n",
        "        origin=origin,\n",
        "        destination=destination,\n",
        "        start_date=start_date,\n",
        "        end_date=end_date,\n",
        "        interests=interests,\n",
        "        budget=budget,\n",
        "        real_time_data=real_time_data if real_time_data else \"No real-time data available.\" # Handle potentially empty real_time_data\n",
        "    )\n",
        "    model = genai.GenerativeModel('models/gemini-pro-latest')\n",
        "    try:\n",
        "        response = model.generate_content(prompt)\n",
        "        # Add a check for empty or invalid response\n",
        "        if response and response.text:\n",
        "            return response.text\n",
        "        else:\n",
        "            print(\"Warning: Gemini API returned an empty or invalid response.\")\n",
        "            return \"Could not generate itinerary. Please try again with different inputs.\"\n",
        "    except Exception as e:\n",
        "        print(f\"Error generating itinerary with Gemini API: {e}\")\n",
        "        return \"An error occurred while generating the itinerary. Please try again later.\"\n",
        "\n",
        "# --- Parsing and Display Functions ---\n",
        "def parse_itinerary(raw_itinerary_text):\n",
        "    \\\"\\\"\\\"Parses the raw AI-generated itinerary text into a structured format.\\\"\\\"\\\"\n",
        "    itinerary_data = {}\n",
        "    daily_plans = []\n",
        "    total_budget = \"Not specified\"\n",
        "\n",
        "    # Check if the raw text is an error message\n",
        "    if \"Could not generate itinerary\" in raw_itinerary_text or \"An error occurred\" in raw_itinerary_text:\n",
        "        return {\"daily_plans\": [], \"total_budget\": raw_itinerary_text}\n",
        "\n",
        "    # Split the text into potential daily sections using a more flexible pattern\n",
        "    # This pattern looks for \"Day \" followed by a number, or a line that starts with a date format\n",
        "    days = re.split(r'\\n*(?:Day \\d+:?|(?:\\w+, )?\\w+ \\d+, \\d{4}:?)', raw_itinerary_text)\n",
        "\n",
        "\n",
        "    for day in days:\n",
        "        day = day.strip()\n",
        "        if not day:\n",
        "            continue\n",
        "\n",
        "        # Extract day number or date\n",
        "        day_match = re.search(r'Day (\\d+):?', day)\n",
        "        date_match = re.search(r'((?:\\w+, )?\\w+ \\d+, \\d{4}):?', day)\n",
        "\n",
        "        day_identifier = \"N/A\"\n",
        "        if day_match:\n",
        "            day_identifier = f\"Day {day_match.group(1)}\"\n",
        "        elif date_match:\n",
        "            day_identifier = date_match.group(1)\n",
        "\n",
        "\n",
        "        daily_plan = {\n",
        "            \"day\": day_identifier,\n",
        "            \"activities\": [],\n",
        "            \"transportation\": []\n",
        "        }\n",
        "\n",
        "        # Extract activities and transportation\n",
        "        lines = day.split('\\\\n') # Use '\\\\n' to match the string representation of newline\n",
        "        current_section = None\n",
        "        for line in lines:\n",
        "            line = line.strip()\n",
        "            if not line:\n",
        "                continue\n",
        "\n",
        "            if \"Activities:\" in line:\n",
        "                current_section = \"activities\"\n",
        "                continue\n",
        "            elif \"Transportation:\" in line:\n",
        "                current_section = \"transportation\"\n",
        "                continue\n",
        "            elif \"Total Estimated Budget:\" in line:\n",
        "                total_budget = line.replace(\"Total Estimated Budget:\", \"\").strip()\n",
        "                current_section = None # Stop processing lines for daily plan once total budget is found\n",
        "                continue\n",
        "            elif line.startswith(\"Day \") or re.match(r'(?:\\w+, )?\\w+ \\d+, \\d{4}', line): # Handle cases where splitting might not have worked perfectly or line is a date\n",
        "                 continue\n",
        "\n",
        "\n",
        "            if current_section == \"activities\":\n",
        "                 # More flexible parsing for activities\n",
        "                 if line.startswith(\"- \") or line.startswith(\"* \"):\n",
        "                    daily_plan[\"activities\"].append(line[2:].strip())\n",
        "                 else:\n",
        "                    daily_plan[\"activities\"].append(line)\n",
        "\n",
        "            elif current_section == \"transportation\":\n",
        "                 # More flexible parsing for transportation\n",
        "                 if line.startswith(\"- \") or line.startswith(\"* \"):\n",
        "                     daily_plan[\"transportation\"].append(line[2:].strip())\n",
        "                 else:\n",
        "                    daily_plan[\"transportation\"].append(line)\n",
        "\n",
        "\n",
        "        if daily_plan[\"activities\"] or daily_plan[\"transportation\"]:\n",
        "            daily_plans.append(daily_plan)\n",
        "        # Handle the case where total budget might be at the very end without a \"Day\" marker\n",
        "        elif \"Total Estimated Budget:\" in day and total_budget == \"Not specified\":\n",
        "             total_budget = day.replace(\"Total Estimated Budget:\", \"\").strip()\n",
        "\n",
        "\n",
        "    itinerary_data[\"daily_plans\"] = daily_plans\n",
        "    itinerary_data[\"total_budget\"] = total_budget\n",
        "\n",
        "    return itinerary_data\n",
        "\n",
        "\n",
        "def display_itinerary(itinerary_data):\n",
        "    \\\"\\\"\\\"Displays the parsed itinerary data in a clear and organized format (for console output).\\\"\\\"\\\"\n",
        "    print(\"\\\\n--- Your Personalized Travel Itinerary ---\")\n",
        "\n",
        "    # Check if the itinerary data contains an error message instead of plans\n",
        "    if \"Could not generate itinerary\" in itinerary_data.get(\"total_budget\", \"\") or \"An error occurred\" in itinerary_data.get(\"total_budget\", \"\"):\n",
        "        print(itinerary_data[\"total_budget\"])\n",
        "        print(\"\\\\n-----------------------------------------\")\n",
        "        return\n",
        "\n",
        "\n",
        "    if not itinerary_data.get(\"daily_plans\"):\n",
        "        print(\"No daily plans were generated for this itinerary.\")\n",
        "    else:\n",
        "        for daily_plan in itinerary_data[\"daily_plans\"]:\n",
        "            print(f\"\\\\n{daily_plan.get('day', 'N/A')}:\") # Display Day or Date\n",
        "            print(\"  Activities:\")\n",
        "            if daily_plan.get(\"activities\"):\n",
        "                for i, activity in enumerate(daily_plan[\"activities\"]):\n",
        "                    print(f\"    {i+1}. {activity}\")\n",
        "            else:\n",
        "                print(\"    No activities planned for this day.\")\n",
        "\n",
        "            print(\"  Transportation:\")\n",
        "            if daily_plan.get(\"transportation\"):\n",
        "                for i, transport in enumerate(daily_plan[\"transportation\"]):\n",
        "                    print(f\"    {i+1}. {transport}\")\n",
        "            else:\n",
        "                print(\"    No transportation details for this day.\")\n",
        "\n",
        "    print(f\"\\\\nTotal Estimated Budget: {itinerary_data.get('total_budget', 'Not specified')}\")\n",
        "    print(\"\\\\n-----------------------------------------\")\n",
        "\n",
        "\n",
        "def validate_inputs(origin, destination, start_date_str, end_date_str, interests, budget):\n",
        "    \\\"\\\"\\\"Validates user inputs.\\\"\\\"\\\"\n",
        "    errors = []\n",
        "\n",
        "    if not origin:\n",
        "        errors.append(\"Origin cannot be empty.\")\n",
        "    if not destination:\n",
        "        errors.append(\"Destination cannot be empty.\")\n",
        "\n",
        "    try:\n",
        "        start_date = datetime.datetime.strptime(start_date_str, '%Y-%m-%d')\n",
        "    except ValueError:\n",
        "        errors.append(\"Start Date must be in YYYY-MM-DD format.\")\n",
        "        start_date = None # Set to None to avoid errors in subsequent checks\n",
        "\n",
        "    try:\n",
        "        end_date = datetime.datetime.strptime(end_date_str, '%Y-%m-%d') # Corrected format string\n",
        "    except ValueError:\n",
        "        errors.append(\"End Date must be in YYYY-MM-DD format.\")\n",
        "        end_date = None # Set to None\n",
        "\n",
        "    if start_date and end_date and start_date > end_date:\n",
        "        errors.append(\"Start Date cannot be after End Date.\")\n",
        "\n",
        "    if not interests:\n",
        "        errors.append(\"Interests cannot be empty.\")\n",
        "\n",
        "    if not budget:\n",
        "        errors.append(\"Budget cannot be empty.\")\n",
        "\n",
        "    return errors\n",
        "\n",
        "# --- Main Orchestration Function ---\n",
        "def plan_travel(origin, destination, start_date_str, end_date_str, interests, budget):\n",
        "    \\\"\\\"\\\"Orchestrates the travel planning process for web integration.\\\"\\\"\\\"\n",
        "\n",
        "    # 1. Validate inputs\n",
        "    errors = validate_inputs(origin, destination, start_date_str, end_date_str, interests, budget)\n",
        "    if errors:\n",
        "        # In a web context, you'd return these errors to the frontend\n",
        "        return {\"error\": \"Input validation failed\", \"details\": errors}\n",
        "\n",
        "    # 2. Gather real-time data (example: getting distance and duration)\n",
        "    print(f\"Gathering real-time data for {origin} to {destination}...\")\n",
        "    distance, duration = get_distance_and_duration(origin, destination)\n",
        "    real_time_data = f\"Distance between origin and destination: {distance}\\\\nTravel time between origin and destination: {duration}\"\n",
        "\n",
        "    # You can expand this to include nearby places, place details based on interests, etc.\n",
        "    # Example of getting nearby places (you can integrate this into the prompt or processing)\n",
        "    # if destination != \"N/A\":\n",
        "    #     print(\"Finding nearby places of interest...\")\n",
        "    #     nearby_attractions = get_nearby_places(destination, 5000, 'tourist_attraction') # 5000 meters radius\n",
        "    #     if nearby_attractions:\n",
        "    #         real_time_data += \"\\\\n\\\\nNearby Attractions at Destination:\"\n",
        "    #         for place in nearby_attractions[:5]: # Limit to first 5 for brevity\n",
        "    #             real_time_data += f\"\\\\n- {place.get('name')} (Rating: {place.get('rating', 'N/A')})\"\n",
        "    #     else:\n",
        "    #         real_time_data += \"\\\\n\\\\nNo nearby attractions found for the destination.\"\n",
        "\n",
        "    # 3. Generate itinerary\n",
        "    print(\"Generating itinerary...\")\n",
        "    raw_itinerary_text = generate_itinerary(origin, destination, start_date_str, end_date_str, interests, budget, real_time_data)\n",
        "\n",
        "    # 4. Process and format the output\n",
        "    print(\"Parsing itinerary...\")\n",
        "    itinerary_data = parse_itinerary(raw_itinerary_text)\n",
        "\n",
        "    # In a web context, you would return itinerary_data as JSON\n",
        "    return itinerary_data\n",
        "\n",
        "# --- Placeholder for Web Framework Integration ---\n",
        "# This is where you would integrate Flask/FastAPI to receive requests\n",
        "# and call the plan_travel function. Example (Flask):\n",
        "# from flask import Flask, request, jsonify\n",
        "# app = Flask(__name__)\n",
        "#\n",
        "# @app.route('/plan_trip', methods=['POST'])\n",
        "# def plan_trip_endpoint():\n",
        "#     user_inputs = request.json\n",
        "#     origin = user_inputs.get('origin')\n",
        "#     destination = user_inputs.get('destination')\n",
        "#     start_date_str = user_inputs.get('start_date')\n",
        "#     end_date_str = user_inputs.get('end_date')\n",
        "#     interests = user_inputs.get('interests')\n",
        "#     budget = user_inputs.get('budget')\n",
        "#\n",
        "#     itinerary = plan_travel(origin, destination, start_date_str, end_date_str, interests, budget)\n",
        "#     return jsonify(itinerary)\n",
        "#\n",
        "# if __name__ == '__main__':\n",
        "#     # In Colab, you might use something like ngrok to expose your Flask app\n",
        "#     # In a real deployment, you'd use a proper web server\n",
        "#     app.run(host='0.0.0.0', port=5000)\n",
        "\n",
        "# Note: The display_itinerary function is primarily for console output during development.\n",
        "# For the web interface, the JavaScript in index.html handles displaying the JSON output\n",
        "# returned by the plan_travel function.\n",
        "\"\"\"\n",
        "\n",
        "python_file_path = os.path.join(project_dir, \"app.py\")\n",
        "with open(python_file_path, \"w\") as f:\n",
        "    f.write(python_code)\n",
        "\n",
        "print(f\"Created {python_file_path} with all functions.\")\n",
        "\n",
        "# You can now see the created directory and files in the file browser.\n",
        "# For deployment, you would typically include these files in a repository."
      ],
      "execution_count": 27,
      "outputs": [
        {
          "output_type": "stream",
          "name": "stdout",
          "text": [
            "Moved index.html to ai_travel_planner/\n",
            "Created ai_travel_planner/app.py with all functions.\n"
          ]
        },
        {
          "output_type": "stream",
          "name": "stderr",
          "text": [
            "<>:143: SyntaxWarning: invalid escape sequence '\\d'\n",
            "<>:143: SyntaxWarning: invalid escape sequence '\\d'\n",
            "/tmp/ipython-input-1986139983.py:143: SyntaxWarning: invalid escape sequence '\\d'\n",
            "  days = re.split(r'\\n*(?:Day \\d+:?|(?:\\w+, )?\\w+ \\d+, \\d{4}:?)', raw_itinerary_text)\n"
          ]
        }
      ]
    },
    {
      "cell_type": "markdown",
      "metadata": {
        "id": "fba36ef8"
      },
      "source": [
        "## Deploy to github\n",
        "\n",
        "### Subtask:\n",
        "Deploy to github\n"
      ]
    },
    {
      "cell_type": "markdown",
      "metadata": {
        "id": "219e597b"
      },
      "source": [
        "**Reasoning**:\n",
        "Initialize a git repository, add all files, and commit them in preparation for pushing to GitHub.\n",
        "\n"
      ]
    },
    {
      "cell_type": "code",
      "metadata": {
        "colab": {
          "base_uri": "https://localhost:8080/"
        },
        "id": "09fa2bae",
        "outputId": "fbcc4a8d-30bf-4089-c2c2-2898f1479f1c"
      },
      "source": [
        "import os\n",
        "\n",
        "# Change to the project directory\n",
        "os.chdir('ai_travel_planner')\n",
        "\n",
        "# Initialize a new Git repository\n",
        "!git init\n",
        "\n",
        "# Add all files in the current directory to the staging area\n",
        "!git add .\n",
        "\n",
        "# Commit the staged files\n",
        "!git commit -m \"Initial commit of AI Travel Planner\""
      ],
      "execution_count": 28,
      "outputs": [
        {
          "output_type": "stream",
          "name": "stdout",
          "text": [
            "\u001b[33mhint: Using 'master' as the name for the initial branch. This default branch name\u001b[m\n",
            "\u001b[33mhint: is subject to change. To configure the initial branch name to use in all\u001b[m\n",
            "\u001b[33mhint: of your new repositories, which will suppress this warning, call:\u001b[m\n",
            "\u001b[33mhint: \u001b[m\n",
            "\u001b[33mhint: \tgit config --global init.defaultBranch <name>\u001b[m\n",
            "\u001b[33mhint: \u001b[m\n",
            "\u001b[33mhint: Names commonly chosen instead of 'master' are 'main', 'trunk' and\u001b[m\n",
            "\u001b[33mhint: 'development'. The just-created branch can be renamed via this command:\u001b[m\n",
            "\u001b[33mhint: \u001b[m\n",
            "\u001b[33mhint: \tgit branch -m <name>\u001b[m\n",
            "Initialized empty Git repository in /content/ai_travel_planner/.git/\n",
            "Author identity unknown\n",
            "\n",
            "*** Please tell me who you are.\n",
            "\n",
            "Run\n",
            "\n",
            "  git config --global user.email \"you@example.com\"\n",
            "  git config --global user.name \"Your Name\"\n",
            "\n",
            "to set your account's default identity.\n",
            "Omit --global to set the identity only in this repository.\n",
            "\n",
            "fatal: unable to auto-detect email address (got 'root@2c83946ad2e0.(none)')\n"
          ]
        }
      ]
    },
    {
      "cell_type": "markdown",
      "metadata": {
        "id": "86a60101"
      },
      "source": [
        "**Reasoning**:\n",
        "Configure the git user name and email as requested by the previous command's output and then attempt to add and commit the files again.\n",
        "\n"
      ]
    },
    {
      "cell_type": "code",
      "metadata": {
        "colab": {
          "base_uri": "https://localhost:8080/"
        },
        "id": "9c3c7610",
        "outputId": "f773d00f-290c-432a-e75e-0be16747c08c"
      },
      "source": [
        "!git config --global user.email \"you@example.com\"\n",
        "!git config --global user.name \"Your Name\"\n",
        "\n",
        "# Add all files in the current directory to the staging area\n",
        "!git add .\n",
        "\n",
        "# Commit the staged files\n",
        "!git commit -m \"Initial commit of AI Travel Planner\""
      ],
      "execution_count": 29,
      "outputs": [
        {
          "output_type": "stream",
          "name": "stdout",
          "text": [
            "[master (root-commit) 1df166d] Initial commit of AI Travel Planner\n",
            " 2 files changed, 558 insertions(+)\n",
            " create mode 100644 app.py\n",
            " create mode 100644 index.html\n"
          ]
        }
      ]
    },
    {
      "cell_type": "markdown",
      "metadata": {
        "id": "8f5bcdcb"
      },
      "source": [
        "**Reasoning**:\n",
        "Add the GitHub remote origin and push the local commits to the main branch. This requires the user to manually create a GitHub repository and provide its URL. Since I cannot interact with the user or external services directly, I will output instructions for the user to complete these steps manually.\n",
        "\n"
      ]
    },
    {
      "cell_type": "code",
      "metadata": {
        "colab": {
          "base_uri": "https://localhost:8080/"
        },
        "id": "05f63726",
        "outputId": "e81143b3-0db1-4ad8-e1d7-b3a70c7d9f31"
      },
      "source": [
        "# Instructions for the user:\n",
        "# 1. Manually create a new repository on GitHub (e.g., named 'ai-travel-planner'). DO NOT initialize it with a README, .gitignore, or license.\n",
        "# 2. Replace 'YOUR_GITHUB_USERNAME' and 'YOUR_REPOSITORY_NAME' in the command below with your actual GitHub username and the name of the repository you created.\n",
        "# 3. Run the following commands in your terminal or a new code cell in this notebook:\n",
        "\n",
        "# !git remote add origin https://github.com/YOUR_GITHUB_USERNAME/YOUR_REPOSITORY_NAME.git\n",
        "# !git push -u origin master\n",
        "\n",
        "print(\"Please follow the instructions above to link your local repository to GitHub and push your code.\")"
      ],
      "execution_count": 30,
      "outputs": [
        {
          "output_type": "stream",
          "name": "stdout",
          "text": [
            "Please follow the instructions above to link your local repository to GitHub and push your code.\n"
          ]
        }
      ]
    },
    {
      "cell_type": "markdown",
      "metadata": {
        "id": "ebdc7f8c"
      },
      "source": [
        "**Reasoning**:\n",
        "Since I cannot directly interact with GitHub Pages settings, I will provide instructions for the user to manually configure GitHub Pages for deployment.\n",
        "\n"
      ]
    },
    {
      "cell_type": "code",
      "metadata": {
        "colab": {
          "base_uri": "https://localhost:8080/"
        },
        "id": "bc68323b",
        "outputId": "432a7f26-4ee4-4c3b-e6b7-b1c50ac6624e"
      },
      "source": [
        "# Instructions for the user to configure GitHub Pages:\n",
        "# 1. Go to your GitHub repository page (https://github.com/YOUR_GITHUB_USERNAME/YOUR_REPOSITORY_NAME).\n",
        "# 2. Click on the \"Settings\" tab.\n",
        "# 3. In the left sidebar, click on \"Pages\" under the \"Code and automation\" section.\n",
        "# 4. Under \"Build and deployment,\" select \"Deploy from a branch\" from the Source dropdown.\n",
        "# 5. Under \"Branch,\" select the 'main' (or 'master') branch and the '/ (root)' folder.\n",
        "# 6. Click the \"Save\" button.\n",
        "# 7. GitHub Pages will now build and deploy your site. This may take a few minutes.\n",
        "# 8. Once deployed, the URL for your site will appear in the GitHub Pages section (usually in the format: https://YOUR_GITHUB_USERNAME.github.io/YOUR_REPOSITORY_NAME/).\n",
        "\n",
        "print(\"Please follow the instructions above to configure and deploy your site using GitHub Pages.\")"
      ],
      "execution_count": 31,
      "outputs": [
        {
          "output_type": "stream",
          "name": "stdout",
          "text": [
            "Please follow the instructions above to configure and deploy your site using GitHub Pages.\n"
          ]
        }
      ]
    },
    {
      "cell_type": "markdown",
      "metadata": {
        "id": "2b9a0039"
      },
      "source": [
        "## Share the link\n",
        "\n",
        "### Subtask:\n",
        "Share the deployed link with your friends and students.\n"
      ]
    },
    {
      "cell_type": "code",
      "source": [
        "https://github.com/siddhardhavenkat/AI-travel-planner-Cloud.git"
      ],
      "metadata": {
        "colab": {
          "base_uri": "https://localhost:8080/",
          "height": 105
        },
        "id": "qBOvH0hGJ5FS",
        "outputId": "372103c1-709a-4064-ee2a-ac691c2ce0c6"
      },
      "execution_count": 33,
      "outputs": [
        {
          "output_type": "error",
          "ename": "SyntaxError",
          "evalue": "invalid syntax (ipython-input-459773023.py, line 1)",
          "traceback": [
            "\u001b[0;36m  File \u001b[0;32m\"/tmp/ipython-input-459773023.py\"\u001b[0;36m, line \u001b[0;32m1\u001b[0m\n\u001b[0;31m    https://github.com/siddhardhavenkat/AI-travel-planner-Cloud.git\u001b[0m\n\u001b[0m          ^\u001b[0m\n\u001b[0;31mSyntaxError\u001b[0m\u001b[0;31m:\u001b[0m invalid syntax\n"
          ]
        }
      ]
    },
    {
      "cell_type": "markdown",
      "metadata": {
        "id": "190efc59"
      },
      "source": [
        "## Summary:\n",
        "\n",
        "### Data Analysis Key Findings\n",
        "\n",
        "*   An HTML interface for the AI Travel Planner was successfully created, including input fields for origin, destination, dates, interests, and budget, and a dedicated area to display the generated itinerary.\n",
        "*   The HTML includes basic styling to improve the visual appearance of the form and itinerary output.\n",
        "*   JavaScript was integrated into the HTML to handle form submission, capture user input, and simulate the process of sending data to a backend and receiving a structured itinerary response.\n",
        "*   The JavaScript `displayItinerary` function was refined to parse a simulated itinerary structure (matching the expected Python output) and format it nicely using HTML headings, lists, and list items within the designated output area.\n",
        "*   The project files were organized into a dedicated directory (`ai_travel_planner`) with `index.html` and an `app.py` file containing the core Python functions for itinerary generation, parsing, and utility functions (like Google Maps API calls and input validation).\n",
        "*   The initial steps for deploying to GitHub (initializing a Git repository, adding files, and making the initial commit) were successfully completed within the execution environment.\n",
        "*   Due to environment limitations, the final steps of linking the local repository to a remote GitHub repository, pushing the code, and configuring GitHub Pages were provided as manual instructions for the user to follow.\n",
        "\n",
        "### Insights or Next Steps\n",
        "\n",
        "*   The next crucial step is to build the actual backend integration in `app.py` using a web framework like Flask or FastAPI to receive requests from the HTML form, call the `plan_travel` function, and return the itinerary data as JSON.\n",
        "*   For full deployment, the user needs to complete the manual steps of creating a GitHub repository, linking their local repository, pushing the code, and configuring GitHub Pages to serve the `index.html` file.\n"
      ]
    },
    {
      "cell_type": "code",
      "metadata": {
        "colab": {
          "base_uri": "https://localhost:8080/"
        },
        "id": "217db478",
        "outputId": "2360b5b1-eb1e-46dd-fe94-3574d00d0637"
      },
      "source": [
        "# Change back to the project directory if you are not already there\n",
        "import os\n",
        "if os.path.basename(os.getcwd()) != 'ai_travel_planner':\n",
        "    os.chdir('ai_travel_planner')\n",
        "\n",
        "# Push the local commits to the master branch\n",
        "!git push -u origin master"
      ],
      "execution_count": 37,
      "outputs": [
        {
          "output_type": "stream",
          "name": "stdout",
          "text": [
            "fatal: could not read Username for 'https://github.com': No such device or address\n"
          ]
        }
      ]
    },
    {
      "cell_type": "code",
      "metadata": {
        "colab": {
          "base_uri": "https://localhost:8080/"
        },
        "id": "a0752953",
        "outputId": "4e925064-c2e1-434d-8e3d-f8c90ffeac47"
      },
      "source": [
        "# Change back to the project directory if you are not already there\n",
        "import os\n",
        "if os.path.basename(os.getcwd()) != 'ai_travel_planner':\n",
        "    os.chdir('ai_travel_planner')\n",
        "\n",
        "# List local branches\n",
        "!git branch"
      ],
      "execution_count": 35,
      "outputs": [
        {
          "output_type": "stream",
          "name": "stdout",
          "text": [
            "* \u001b[32mmaster\u001b[m\n"
          ]
        }
      ]
    },
    {
      "cell_type": "code",
      "metadata": {
        "colab": {
          "base_uri": "https://localhost:8080/"
        },
        "id": "a9dfa82a",
        "outputId": "363f8db2-6674-4639-e190-e13efd2deaa0"
      },
      "source": [
        "# Change back to the project directory if you are not already there\n",
        "import os\n",
        "if os.path.basename(os.getcwd()) != 'ai_travel_planner':\n",
        "    os.chdir('ai_travel_planner')\n",
        "\n",
        "# Add the GitHub remote origin\n",
        "!git remote add origin https://github.com/siddhardhavenkat/AI-travel-planner-Cloud.git\n",
        "\n",
        "# Rename the local branch to main\n",
        "!git branch -M main\n",
        "\n",
        "# Push the local commits to the main branch\n",
        "!git push -u origin main"
      ],
      "execution_count": 39,
      "outputs": [
        {
          "output_type": "stream",
          "name": "stdout",
          "text": [
            "error: remote origin already exists.\n",
            "fatal: could not read Username for 'https://github.com': No such device or address\n"
          ]
        }
      ]
    },
    {
      "cell_type": "code",
      "metadata": {
        "colab": {
          "base_uri": "https://localhost:8080/"
        },
        "id": "f1b1aa2e",
        "outputId": "34682009-1a31-4c5c-f043-92f6eb1bb012"
      },
      "source": [
        "# Change back to the project directory if you are not already there\n",
        "import os\n",
        "if os.path.basename(os.getcwd()) != 'ai_travel_planner':\n",
        "    os.chdir('ai_travel_planner')\n",
        "\n",
        "# Push the local commits to the master branch\n",
        "!git push -u origin master"
      ],
      "execution_count": 40,
      "outputs": [
        {
          "output_type": "stream",
          "name": "stdout",
          "text": [
            "error: src refspec master does not match any\n",
            "\u001b[31merror: failed to push some refs to 'https://github.com/siddhardhavenkat/AI-travel-planner-Cloud.git'\n",
            "\u001b[m"
          ]
        }
      ]
    },
    {
      "cell_type": "code",
      "metadata": {
        "colab": {
          "base_uri": "https://localhost:8080/"
        },
        "id": "95701876",
        "outputId": "b311f579-f4dd-4a9f-aff7-e6032ad876a2"
      },
      "source": [
        "# Change back to the project directory if you are not already there\n",
        "import os\n",
        "if os.path.basename(os.getcwd()) != 'ai_travel_planner':\n",
        "    os.chdir('ai_travel_planner')\n",
        "\n",
        "# Add the GitHub remote origin\n",
        "!git remote add origin https://github.com/siddhardhavenkat/AI-travel-planner-Cloud.git\n",
        "\n",
        "# Push the local commits to the main branch\n",
        "# If your default branch is 'master', replace 'main' with 'master'\n",
        "!git push -u origin main"
      ],
      "execution_count": 34,
      "outputs": [
        {
          "output_type": "stream",
          "name": "stdout",
          "text": [
            "error: src refspec main does not match any\n",
            "\u001b[31merror: failed to push some refs to 'https://github.com/siddhardhavenkat/AI-travel-planner-Cloud.git'\n",
            "\u001b[m"
          ]
        }
      ]
    },
    {
      "cell_type": "code",
      "metadata": {
        "colab": {
          "base_uri": "https://localhost:8080/"
        },
        "id": "0ec564bb",
        "outputId": "0118f4ed-1cb6-4cb9-94f3-d3294e9ab93d"
      },
      "source": [
        "# Change back to the project directory if you are not already there\n",
        "import os\n",
        "if os.path.basename(os.getcwd()) != 'ai_travel_planner':\n",
        "    os.chdir('ai_travel_planner')\n",
        "\n",
        "# Push the local commits to the main branch\n",
        "!git push -u origin main"
      ],
      "execution_count": 41,
      "outputs": [
        {
          "output_type": "stream",
          "name": "stdout",
          "text": [
            "fatal: could not read Username for 'https://github.com': No such device or address\n"
          ]
        }
      ]
    }
  ]
}